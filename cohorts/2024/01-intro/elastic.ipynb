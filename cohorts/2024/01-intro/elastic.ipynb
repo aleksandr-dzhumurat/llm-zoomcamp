{
 "cells": [
  {
   "cell_type": "code",
   "execution_count": 4,
   "id": "4a5c2692-e0c2-4b8f-9bf4-ffe65161effd",
   "metadata": {},
   "outputs": [
    {
     "data": {
      "text/plain": [
       "True"
      ]
     },
     "execution_count": 4,
     "metadata": {},
     "output_type": "execute_result"
    }
   ],
   "source": [
    "from dotenv import load_dotenv\n",
    "from elasticsearch import Elasticsearch\n",
    "\n",
    "es_client = Elasticsearch('http://localhost:9200')\n",
    "\n",
    "\n",
    "# Load environment variables from the .env file\n",
    "load_dotenv()\n"
   ]
  },
  {
   "cell_type": "code",
   "execution_count": 2,
   "id": "d1f10ed2-df63-4e9d-af7c-7f2468661796",
   "metadata": {},
   "outputs": [
    {
     "name": "stdout",
     "output_type": "stream",
     "text": [
      "Num documents loaded 948\n",
      "948\n"
     ]
    }
   ],
   "source": [
    "import os\n",
    "import requests\n",
    "import json\n",
    "\n",
    "def get_data():\n",
    "    docs_url = 'https://github.com/DataTalksClub/llm-zoomcamp/blob/main/01-intro/documents.json?raw=1'\n",
    "    docs_response = requests.get(docs_url)\n",
    "    documents_raw = docs_response.json()\n",
    "\n",
    "    json_path = './data/documents.json'\n",
    "    if not os.path.exists(json_path):\n",
    "        documents = []\n",
    "\n",
    "        for course in documents_raw:\n",
    "            course_name = course['course']\n",
    "\n",
    "            for doc in course['documents']:\n",
    "                doc['course'] = course_name\n",
    "                documents.append(doc)\n",
    "\n",
    "        with open(json_path, 'w') as json_file:\n",
    "            json.dump(documents, json_file)\n",
    "        print('File saved, num rows %d' % len(documents))\n",
    "    else:\n",
    "        with open(json_path, 'r') as json_file:\n",
    "            documents = json.load(json_file)\n",
    "    print('Num documents loaded %d' % len(documents))\n",
    "    #print(documents[:2])\n",
    "    return documents\n",
    "docs = get_data()\n",
    "print(len(docs))"
   ]
  },
  {
   "cell_type": "code",
   "execution_count": 4,
   "id": "4bfb325b-d83e-457d-898b-bf212e3151b6",
   "metadata": {},
   "outputs": [
    {
     "data": {
      "application/vnd.jupyter.widget-view+json": {
       "model_id": "bf5f98cea4844fd986940a06eaa85026",
       "version_major": 2,
       "version_minor": 0
      },
      "text/plain": [
       "  0%|          | 0/948 [00:00<?, ?it/s]"
      ]
     },
     "metadata": {},
     "output_type": "display_data"
    },
    {
     "name": "stdout",
     "output_type": "stream",
     "text": [
      "Index created\n"
     ]
    }
   ],
   "source": [
    "from tqdm.auto import tqdm\n",
    "def build_es_index(es_client, documents, index_name):\n",
    "    index_settings = {\n",
    "        \"settings\": {\n",
    "            \"number_of_shards\": 1,\n",
    "            \"number_of_replicas\": 0\n",
    "        },\n",
    "        \"mappings\": {\n",
    "            \"properties\": {\n",
    "                \"text\": {\"type\": \"text\"},\n",
    "                \"section\": {\"type\": \"text\"},\n",
    "                \"question\": {\"type\": \"text\"},\n",
    "                \"course\": {\"type\": \"keyword\"} \n",
    "            }\n",
    "        }\n",
    "    }\n",
    "\n",
    "    es_client.indices.create(index=index_name, body=index_settings)\n",
    "\n",
    "    for doc in tqdm(documents):\n",
    "        es_client.index(index=index_name, document=doc)\n",
    "    print('Index created')\n",
    "\n",
    "requests.delete('http://localhost:9200/course-questions').json()\n",
    "index_name = \"course-questions\"\n",
    "build_es_index(es_client, docs, index_name)"
   ]
  },
  {
   "cell_type": "code",
   "execution_count": 6,
   "id": "26270d0e-a056-4e2b-876f-399bd66e0169",
   "metadata": {},
   "outputs": [
    {
     "data": {
      "text/plain": [
       "[{84.050095: 'How do I debug a docker container?'},\n",
       " {75.54128: 'PGCLI - running in a Docker container'},\n",
       " {72.08518: 'Running multiple services in a Docker container'}]"
      ]
     },
     "execution_count": 6,
     "metadata": {},
     "output_type": "execute_result"
    }
   ],
   "source": [
    "def elastic_search(es_client, query, limit=3, filter=None):\n",
    "    search_query = {\n",
    "        \"size\": 5,\n",
    "        \"query\": {\n",
    "            \"bool\": {\n",
    "                \"must\": {\n",
    "                    \"multi_match\": {\n",
    "                        \"query\": query,\n",
    "                        \"fields\": [\"question^4\", \"text\"],\n",
    "                        \"type\": \"best_fields\"\n",
    "                    }\n",
    "                },\n",
    "                # \"filter\": {\n",
    "                #     \"term\": {\n",
    "                #         \"course\": \"data-engineering-zoomcamp\"\n",
    "                #     }\n",
    "                # }\n",
    "            }\n",
    "        }\n",
    "    }\n",
    "    if filter is not None:\n",
    "        search_query['query']['bool'].update({'filter': {\"term\": {\"course\": \"machine-learning-zoomcamp\"}}})\n",
    "\n",
    "    response = es_client.search(index=index_name, body=search_query)\n",
    "    \n",
    "    return response['hits']['hits'][:limit]\n",
    "\n",
    "def pretty(search_results):\n",
    "    result_docs = []\n",
    "    \n",
    "    for hit in search_results:\n",
    "        result_docs.append({hit['_score']: hit['_source']['question']})\n",
    "    return result_docs\n",
    "\n",
    "\n",
    "query = 'How do I execute a command in a running docker container?'\n",
    "# query = 'PostgreSQL'\n",
    "index_name = \"course-questions\"\n",
    "\n",
    "pretty(elastic_search(es_client, query))"
   ]
  },
  {
   "cell_type": "code",
   "execution_count": 6,
   "id": "c53d0329-7092-4a8a-b83d-b3eedd2cf976",
   "metadata": {},
   "outputs": [],
   "source": [
    "# import random\n",
    "\n",
    "# random_index = random.randint(0, len(docs) - 1)\n",
    "\n",
    "# docs[random_index]['question']\n",
    "\n",
    "# [i for i in docs if 'debug a docker container' in i['question']]"
   ]
  },
  {
   "cell_type": "code",
   "execution_count": 23,
   "id": "c020936e-77b5-4d2e-9e67-405b8cac1f9e",
   "metadata": {},
   "outputs": [
    {
     "data": {
      "text/plain": [
       "[{84.050095: 'How do I debug a docker container?'},\n",
       " {51.04628: 'How do I copy files from my local machine to docker container?'},\n",
       " {49.938507: 'How do I copy files from a different folder into docker container’s working directory?'}]"
      ]
     },
     "execution_count": 23,
     "metadata": {},
     "output_type": "execute_result"
    }
   ],
   "source": [
    "query = 'How do I execute a command in a running docker container?'\n",
    "index_name = \"course-questions\"\n",
    "\n",
    "pretty(elastic_search(es_client, query, filter=1))"
   ]
  },
  {
   "cell_type": "code",
   "execution_count": 27,
   "id": "474d9073-91df-4ec2-a979-31be9c860510",
   "metadata": {},
   "outputs": [
    {
     "name": "stdout",
     "output_type": "stream",
     "text": [
      "Result len 1462, context len 1220, num search results 3\n",
      "num tokens 322\n",
      "Answer len: 0\n",
      "\n"
     ]
    }
   ],
   "source": [
    "from openai import OpenAI\n",
    "import tiktoken\n",
    "\n",
    "\n",
    "client = OpenAI()\n",
    "\n",
    "def search(query):\n",
    "    hits = elastic_search(es_client, query, filter=1)\n",
    "    return [i['_source'] for i in hits]\n",
    "\n",
    "def build_prompt(query, search_results):\n",
    "    prompt_template = \"\"\"\n",
    "    You're a course teaching assistant. Answer the QUESTION based on the CONTEXT from the FAQ database.\n",
    "    Use only the facts from the CONTEXT when answering the QUESTION.\n",
    "    \n",
    "    QUESTION: {question}\n",
    "    \n",
    "    CONTEXT:\n",
    "    {context}\n",
    "    \"\"\".strip()\n",
    "\n",
    "    context_template = \"\"\"\n",
    "    Q: {question}\n",
    "    A: {text}\n",
    "    \"\"\".strip()\n",
    "\n",
    "    context = ''\n",
    "    for doc in search_results:\n",
    "        # context = context + f\"section: {doc['section']}\\nquestion: {doc['question']}\\nanswer: {doc['text']}\\n\\n\"\n",
    "        context = context + context_template.format(question=doc[\"question\"], text=doc[\"text\"]) + '\\n\\n'\n",
    "    \n",
    "    prompt = prompt_template.format(question=query, context=context).strip()\n",
    "    print('Result prompt len %d, context len %d, num search results %d' % (len(prompt), len(context), len(search_results)))\n",
    "\n",
    "    encoding = tiktoken.encoding_for_model(\"gpt-4o\")\n",
    "    tokens = encoding.encode(prompt)\n",
    "    print('num tokens %d' % len(tokens))\n",
    "    \n",
    "    return prompt\n",
    "\n",
    "\n",
    "def llm(prompt):\n",
    "    response = client.chat.completions.create(\n",
    "        model='gpt-4o',\n",
    "        messages=[{\"role\": \"user\", \"content\": prompt}]\n",
    "    )\n",
    "    \n",
    "    return response.choices[0].message.content\n",
    "\n",
    "def rag(query):\n",
    "    search_results = search(query)\n",
    "    prompt = build_prompt(query, search_results)\n",
    "    answer = ''\n",
    "    # answer = llm(prompt)\n",
    "    print('Answer len: %d' % len(answer))\n",
    "    return answer\n",
    "\n",
    "\n",
    "query = 'How do I execute a command in a running docker container?'\n",
    "print(rag(query))"
   ]
  },
  {
   "cell_type": "code",
   "execution_count": null,
   "id": "5d60842b-a243-4768-a447-806bc4155047",
   "metadata": {},
   "outputs": [],
   "source": []
  },
  {
   "cell_type": "code",
   "execution_count": null,
   "id": "6f11d2de-4f8f-48e6-9d4f-2c6723fa1766",
   "metadata": {},
   "outputs": [],
   "source": []
  }
 ],
 "metadata": {
  "kernelspec": {
   "display_name": "Python 3 (ipykernel)",
   "language": "python",
   "name": "python3"
  },
  "language_info": {
   "codemirror_mode": {
    "name": "ipython",
    "version": 3
   },
   "file_extension": ".py",
   "mimetype": "text/x-python",
   "name": "python",
   "nbconvert_exporter": "python",
   "pygments_lexer": "ipython3",
   "version": "3.10.13"
  }
 },
 "nbformat": 4,
 "nbformat_minor": 5
}
