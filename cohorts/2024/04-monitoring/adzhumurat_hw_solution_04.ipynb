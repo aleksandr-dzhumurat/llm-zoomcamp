{
 "cells": [
  {
   "cell_type": "code",
   "execution_count": 16,
   "id": "ec91d469-c497-4a6b-8823-f392d1dbafc8",
   "metadata": {},
   "outputs": [
    {
     "name": "stdout",
     "output_type": "stream",
     "text": [
      "The autoreload extension is already loaded. To reload it, use:\n",
      "  %reload_ext autoreload\n"
     ]
    }
   ],
   "source": [
    "%load_ext autoreload\n",
    "%autoreload 2"
   ]
  },
  {
   "cell_type": "code",
   "execution_count": 17,
   "id": "1d5b7be1-ad0b-47c1-89b8-fe6c92e6fd30",
   "metadata": {},
   "outputs": [],
   "source": [
    " %reload_ext autoreload"
   ]
  },
  {
   "cell_type": "code",
   "execution_count": 3,
   "id": "3c067829-e9d5-47a2-a876-d90ad5179094",
   "metadata": {},
   "outputs": [
    {
     "data": {
      "text/plain": [
       "['adzhumurat_hw_solution_05.ipynb',\n",
       " 'homework.md',\n",
       " 'utils.py',\n",
       " 'adzhumurat_hw4_solution.md',\n",
       " '.ipynb_checkpoints']"
      ]
     },
     "execution_count": 3,
     "metadata": {},
     "output_type": "execute_result"
    }
   ],
   "source": [
    "import os\n",
    "\n",
    "data_dir = '/Users/username/PycharmProjects/llm-zoomcamp/cohorts/2024/04-monitoring'\n",
    "\n",
    "os.listdir(data_dir)"
   ]
  },
  {
   "cell_type": "code",
   "execution_count": 7,
   "id": "1ed87e25-1eca-4922-80d2-ac1da578e33e",
   "metadata": {},
   "outputs": [],
   "source": [
    "from utils import get_ground_truth"
   ]
  },
  {
   "cell_type": "code",
   "execution_count": 59,
   "id": "4d28700b-5a21-4732-9351-d72b5d5edcb2",
   "metadata": {},
   "outputs": [
    {
     "data": {
      "text/plain": [
       "{'answer_llm': 'You can sign up for the course by visiting the course page at [http://mlzoomcamp.com/](http://mlzoomcamp.com/).',\n",
       " 'answer_orig': 'Machine Learning Zoomcamp FAQ\\nThe purpose of this document is to capture frequently asked technical questions.\\nWe did this for our data engineering course and it worked quite well. Check this document for inspiration on how to structure your questions and answers:\\nData Engineering Zoomcamp FAQ\\nIn the course GitHub repository there’s a link. Here it is: https://airtable.com/shryxwLd0COOEaqXo\\nwork',\n",
       " 'document': '0227b872',\n",
       " 'question': 'Where can I sign up for the course?',\n",
       " 'course': 'machine-learning-zoomcamp'}"
      ]
     },
     "execution_count": 59,
     "metadata": {},
     "output_type": "execute_result"
    }
   ],
   "source": [
    "\n",
    "base_url = 'https://github.com/DataTalksClub/llm-zoomcamp/blob/main'\n",
    "relative_url = '04-monitoring/data'\n",
    "filename = 'results-gpt4o-mini.csv'\n",
    "ground_truth_url = f'{base_url}/{relative_url}/{filename}?raw=1'\n",
    "\n",
    "res = get_ground_truth(ground_truth_url, os.path.join(data_dir, filename))[:300]\n",
    "res[0]"
   ]
  },
  {
   "cell_type": "code",
   "execution_count": 21,
   "id": "10059d35-2e26-4c8f-a58a-95b132f4d8d8",
   "metadata": {},
   "outputs": [
    {
     "name": "stdout",
     "output_type": "stream",
     "text": [
      "The autoreload extension is already loaded. To reload it, use:\n",
      "  %reload_ext autoreload\n",
      "huggingface model loading...\n"
     ]
    },
    {
     "name": "stderr",
     "output_type": "stream",
     "text": [
      "/Users/username/.pyenv/versions/3.10.13/envs/llmops-env/lib/python3.10/site-packages/huggingface_hub/utils/_deprecation.py:131: FutureWarning: 'cached_download' (from 'huggingface_hub.file_download') is deprecated and will be removed from version '0.26'. Use `hf_hub_download` instead.\n",
      "  warnings.warn(warning_message, FutureWarning)\n"
     ]
    },
    {
     "data": {
      "application/vnd.jupyter.widget-view+json": {
       "model_id": "4889f33b983f4e6d97cc8125fd59dfd8",
       "version_major": 2,
       "version_minor": 0
      },
      "text/plain": [
       ".gitattributes:   0%|          | 0.00/791 [00:00<?, ?B/s]"
      ]
     },
     "metadata": {},
     "output_type": "display_data"
    },
    {
     "data": {
      "application/vnd.jupyter.widget-view+json": {
       "model_id": "3553c781e18e4fa0b1ce17de80a19ebd",
       "version_major": 2,
       "version_minor": 0
      },
      "text/plain": [
       "1_Pooling/config.json:   0%|          | 0.00/190 [00:00<?, ?B/s]"
      ]
     },
     "metadata": {},
     "output_type": "display_data"
    },
    {
     "data": {
      "application/vnd.jupyter.widget-view+json": {
       "model_id": "eb99e82ee37e4571ba954c9acdb1ca39",
       "version_major": 2,
       "version_minor": 0
      },
      "text/plain": [
       "README.md:   0%|          | 0.00/8.71k [00:00<?, ?B/s]"
      ]
     },
     "metadata": {},
     "output_type": "display_data"
    },
    {
     "data": {
      "application/vnd.jupyter.widget-view+json": {
       "model_id": "d52a3e4c8a0146f8ad67ab244be78dff",
       "version_major": 2,
       "version_minor": 0
      },
      "text/plain": [
       "config.json:   0%|          | 0.00/571 [00:00<?, ?B/s]"
      ]
     },
     "metadata": {},
     "output_type": "display_data"
    },
    {
     "data": {
      "application/vnd.jupyter.widget-view+json": {
       "model_id": "616caa0e0ff744d98a0d9f29f01eb1b2",
       "version_major": 2,
       "version_minor": 0
      },
      "text/plain": [
       "config_sentence_transformers.json:   0%|          | 0.00/212 [00:00<?, ?B/s]"
      ]
     },
     "metadata": {},
     "output_type": "display_data"
    },
    {
     "data": {
      "application/vnd.jupyter.widget-view+json": {
       "model_id": "55c2e7fd0b204e479bed4e9506bbe867",
       "version_major": 2,
       "version_minor": 0
      },
      "text/plain": [
       "data_config.json:   0%|          | 0.00/25.5k [00:00<?, ?B/s]"
      ]
     },
     "metadata": {},
     "output_type": "display_data"
    },
    {
     "data": {
      "application/vnd.jupyter.widget-view+json": {
       "model_id": "f8c60babc7794277a8eb20e785e233e3",
       "version_major": 2,
       "version_minor": 0
      },
      "text/plain": [
       "model.safetensors:   0%|          | 0.00/438M [00:00<?, ?B/s]"
      ]
     },
     "metadata": {},
     "output_type": "display_data"
    },
    {
     "data": {
      "application/vnd.jupyter.widget-view+json": {
       "model_id": "4ccd64eb145843ba93592688b492a125",
       "version_major": 2,
       "version_minor": 0
      },
      "text/plain": [
       "pytorch_model.bin:   0%|          | 0.00/438M [00:00<?, ?B/s]"
      ]
     },
     "metadata": {},
     "output_type": "display_data"
    },
    {
     "data": {
      "application/vnd.jupyter.widget-view+json": {
       "model_id": "4a6e3eeff21048698e10f3a9689d9fad",
       "version_major": 2,
       "version_minor": 0
      },
      "text/plain": [
       "sentence_bert_config.json:   0%|          | 0.00/53.0 [00:00<?, ?B/s]"
      ]
     },
     "metadata": {},
     "output_type": "display_data"
    },
    {
     "data": {
      "application/vnd.jupyter.widget-view+json": {
       "model_id": "6f283287252747e4ac801a8a418d9700",
       "version_major": 2,
       "version_minor": 0
      },
      "text/plain": [
       "special_tokens_map.json:   0%|          | 0.00/239 [00:00<?, ?B/s]"
      ]
     },
     "metadata": {},
     "output_type": "display_data"
    },
    {
     "data": {
      "application/vnd.jupyter.widget-view+json": {
       "model_id": "4a9e60dab7cf40d19737cab8f38b9a57",
       "version_major": 2,
       "version_minor": 0
      },
      "text/plain": [
       "tokenizer.json:   0%|          | 0.00/466k [00:00<?, ?B/s]"
      ]
     },
     "metadata": {},
     "output_type": "display_data"
    },
    {
     "data": {
      "application/vnd.jupyter.widget-view+json": {
       "model_id": "b9b4e53f9732476c936b140c48b474b1",
       "version_major": 2,
       "version_minor": 0
      },
      "text/plain": [
       "tokenizer_config.json:   0%|          | 0.00/363 [00:00<?, ?B/s]"
      ]
     },
     "metadata": {},
     "output_type": "display_data"
    },
    {
     "data": {
      "application/vnd.jupyter.widget-view+json": {
       "model_id": "5f4a8be8e2ba454bbb988bb1c9b7b7a4",
       "version_major": 2,
       "version_minor": 0
      },
      "text/plain": [
       "train_script.py:   0%|          | 0.00/13.9k [00:00<?, ?B/s]"
      ]
     },
     "metadata": {},
     "output_type": "display_data"
    },
    {
     "data": {
      "application/vnd.jupyter.widget-view+json": {
       "model_id": "4de68038ca35467c88e0f2192363d730",
       "version_major": 2,
       "version_minor": 0
      },
      "text/plain": [
       "vocab.txt:   0%|          | 0.00/232k [00:00<?, ?B/s]"
      ]
     },
     "metadata": {},
     "output_type": "display_data"
    },
    {
     "data": {
      "application/vnd.jupyter.widget-view+json": {
       "model_id": "6800b57f85af4855a2d0c7d018a204c8",
       "version_major": 2,
       "version_minor": 0
      },
      "text/plain": [
       "modules.json:   0%|          | 0.00/229 [00:00<?, ?B/s]"
      ]
     },
     "metadata": {},
     "output_type": "display_data"
    },
    {
     "name": "stderr",
     "output_type": "stream",
     "text": [
      "You try to use a model that was created with version 3.0.0.dev0, however, your version is 2.2.2. This might cause unexpected behavior or errors. In that case, try to update to the latest version.\n",
      "\n",
      "\n",
      "\n"
     ]
    },
    {
     "name": "stdout",
     "output_type": "stream",
     "text": [
      "model loadind done\n"
     ]
    }
   ],
   "source": [
    "from utils import get_or_create_embedder\n",
    "\n",
    "model_name = 'multi-qa-mpnet-base-dot-v1'\n",
    "embedder = get_or_create_embedder(data_dir, model_name)"
   ]
  },
  {
   "cell_type": "markdown",
   "id": "4f0d900f-dfe3-4015-8f3a-1746cd5e2e7a",
   "metadata": {},
   "source": [
    "# Q1"
   ]
  },
  {
   "cell_type": "code",
   "execution_count": 60,
   "id": "3b024d70-97d0-48ad-82e9-7503f7218bd8",
   "metadata": {},
   "outputs": [
    {
     "name": "stdout",
     "output_type": "stream",
     "text": [
      "Q1: first coord: -0.422\n"
     ]
    }
   ],
   "source": [
    "answer_llm = res[0]['answer_llm']\n",
    "corpus_texts = [\n",
    "    answer_llm\n",
    "]\n",
    "passage_embeddings = embedder.encode(corpus_texts, show_progress_bar=False)\n",
    "\n",
    "print('Q1: first coord: %.3f' % passage_embeddings[0][0])"
   ]
  },
  {
   "cell_type": "markdown",
   "id": "e5614a36-36ae-4de2-a928-439e902be71b",
   "metadata": {},
   "source": [
    "# Q2"
   ]
  },
  {
   "cell_type": "code",
   "execution_count": 61,
   "id": "af96d07e-f57d-4d8d-8137-b13baa6303d6",
   "metadata": {},
   "outputs": [
    {
     "name": "stdout",
     "output_type": "stream",
     "text": [
      "300 300\n"
     ]
    }
   ],
   "source": [
    "answers_llm = [i['answer_llm'] for i in res]\n",
    "answers_orig = [i['answer_orig'] for i in res]\n",
    "print(len(answers_llm), len(answers_orig))"
   ]
  },
  {
   "cell_type": "code",
   "execution_count": 63,
   "id": "f7d749ac-0530-418c-980e-0563c5f2eb25",
   "metadata": {},
   "outputs": [
    {
     "data": {
      "application/vnd.jupyter.widget-view+json": {
       "model_id": "01ef6f4e18994c65acc701e5d387d770",
       "version_major": 2,
       "version_minor": 0
      },
      "text/plain": [
       "Batches:   0%|          | 0/10 [00:00<?, ?it/s]"
      ]
     },
     "metadata": {},
     "output_type": "display_data"
    },
    {
     "data": {
      "application/vnd.jupyter.widget-view+json": {
       "model_id": "e2602905b9814d8a81777d3b2acd9b42",
       "version_major": 2,
       "version_minor": 0
      },
      "text/plain": [
       "Batches:   0%|          | 0/10 [00:00<?, ?it/s]"
      ]
     },
     "metadata": {},
     "output_type": "display_data"
    },
    {
     "name": "stdout",
     "output_type": "stream",
     "text": [
      "(300, 768) (300, 768)\n"
     ]
    }
   ],
   "source": [
    "answers_llm_embeds = embedder.encode(answers_llm, show_progress_bar=True)\n",
    "answers_orig_embeds = embedder.encode(answers_orig, show_progress_bar=True)\n",
    "print(answers_llm_embeds.shape, answers_orig_embeds.shape)"
   ]
  },
  {
   "cell_type": "code",
   "execution_count": 37,
   "id": "e505f452-e890-4d87-b9d1-3b8a713f99ae",
   "metadata": {},
   "outputs": [
    {
     "name": "stdout",
     "output_type": "stream",
     "text": [
      "(1830,) 32.38980007171631\n"
     ]
    }
   ],
   "source": [
    "import numpy as np\n",
    "\n",
    "def get_scores(A, B):\n",
    "    scores_ = np.array([np.dot(A[i], B[i]) for i in range(A.shape[0])])\n",
    "    return scores_\n",
    "\n",
    "scores = get_scores(answers_llm_embeds, answers_orig_embeds)\n",
    "print(scores.shape, np.percentile(scores, 75))"
   ]
  },
  {
   "cell_type": "markdown",
   "id": "833d7a87-a137-495f-9207-9544f5f1b072",
   "metadata": {},
   "source": [
    "# Q3"
   ]
  },
  {
   "cell_type": "code",
   "execution_count": 65,
   "id": "888f1510-1098-4034-8807-d51201790cca",
   "metadata": {},
   "outputs": [
    {
     "name": "stdout",
     "output_type": "stream",
     "text": [
      "Num scores 300, q75: 0.8362\n"
     ]
    }
   ],
   "source": [
    "def normed_vector(v):\n",
    "    norm = np.sqrt((v * v).sum())\n",
    "    v_norm = v / norm\n",
    "    return v_norm\n",
    "\n",
    "def normalize_embeds(embeds_input):\n",
    "    embeds_normed = np.vstack([normed_vector(embeds_input[i]) for i in range(embeds_input.shape[0])])\n",
    "    return embeds_normed\n",
    "\n",
    "answers_llm_embeds_normed = normalize_embeds(answers_llm_embeds)\n",
    "answers_orig_embeds_normed = normalize_embeds(answers_orig_embeds)\n",
    "\n",
    "scores_normed = get_scores(answers_llm_embeds_normed, answers_orig_embeds_normed)\n",
    "print('Num scores %d, q75: %.4f' % (scores_normed.shape[0], np.percentile(scores_normed, 75)))"
   ]
  },
  {
   "cell_type": "markdown",
   "id": "22f1fe5f-7ed4-4ab1-9422-e991f3736336",
   "metadata": {},
   "source": [
    "# Q4"
   ]
  },
  {
   "cell_type": "code",
   "execution_count": 66,
   "id": "14fb2a06-0d77-49db-b619-d9b4845299d7",
   "metadata": {},
   "outputs": [
    {
     "name": "stdout",
     "output_type": "stream",
     "text": [
      "Q4: Best F-score 0.455\n",
      "{'answer_llm': \"Yes, all sessions are recorded, so if you miss one, you won't miss anything. You can catch up on the content later. Additionally, you can submit your questions in advance for office hours, and those sessions are also recorded.\", 'answer_orig': 'Everything is recorded, so you won’t miss anything. You will be able to ask your questions for office hours in advance and we will cover them during the live stream. Also, you can always ask questions in Slack.', 'document': '5170565b', 'question': 'Are sessions recorded if I miss one?', 'course': 'machine-learning-zoomcamp'}\n"
     ]
    },
    {
     "data": {
      "text/plain": [
       "{'rouge-1': {'r': 0.45454545454545453,\n",
       "  'p': 0.45454545454545453,\n",
       "  'f': 0.45454544954545456},\n",
       " 'rouge-2': {'r': 0.21621621621621623,\n",
       "  'p': 0.21621621621621623,\n",
       "  'f': 0.21621621121621637},\n",
       " 'rouge-l': {'r': 0.3939393939393939,\n",
       "  'p': 0.3939393939393939,\n",
       "  'f': 0.393939388939394}}"
      ]
     },
     "execution_count": 66,
     "metadata": {},
     "output_type": "execute_result"
    }
   ],
   "source": [
    "from rouge import Rouge\n",
    "rouge_scorer = Rouge()\n",
    "\n",
    "r = res[10]\n",
    "\n",
    "scores = rouge_scorer.get_scores(r['answer_llm'], r['answer_orig'])[0]\n",
    "\n",
    "print('Q4: Best F-score %.3f'% scores['rouge-1']['f'])\n",
    "\n",
    "print(r)\n",
    "scores"
   ]
  },
  {
   "cell_type": "markdown",
   "id": "30ea32a9-c567-4abc-889f-256ac750fd53",
   "metadata": {},
   "source": [
    "# Q5"
   ]
  },
  {
   "cell_type": "code",
   "execution_count": 67,
   "id": "38fc6e1e-bf08-4009-85d3-44932ab9785c",
   "metadata": {},
   "outputs": [
    {
     "data": {
      "text/plain": [
       "0.35490034990035496"
      ]
     },
     "execution_count": 67,
     "metadata": {},
     "output_type": "execute_result"
    }
   ],
   "source": [
    "def eval_average_score(scores, metric='f', score_list = None):\n",
    "    if score_list is None:\n",
    "        score_list = scores.keys()\n",
    "    res = np.mean([scores[k][metric] for k in scores if k in score_list])\n",
    "    return res\n",
    "eval_average_score(scores)"
   ]
  },
  {
   "cell_type": "markdown",
   "id": "7cf0d942-b575-4a01-bc42-530c540b6678",
   "metadata": {},
   "source": [
    "# Q6"
   ]
  },
  {
   "cell_type": "code",
   "execution_count": 68,
   "id": "6fd3f460-10ab-4bd3-8235-b97da1874051",
   "metadata": {},
   "outputs": [
    {
     "name": "stdout",
     "output_type": "stream",
     "text": [
      "0.313205367339838\n"
     ]
    }
   ],
   "source": [
    "scores_all_points = [\n",
    "    eval_average_score(rouge_scorer.get_scores(r['answer_llm'], r['answer_orig'])[0])\n",
    "    for r in res\n",
    "]\n",
    "print(np.mean(scores_all_points))"
   ]
  },
  {
   "cell_type": "code",
   "execution_count": 72,
   "id": "dd01d39e-57cb-4c7f-87e8-334fcca774d7",
   "metadata": {},
   "outputs": [
    {
     "data": {
      "text/html": [
       "<div>\n",
       "<style scoped>\n",
       "    .dataframe tbody tr th:only-of-type {\n",
       "        vertical-align: middle;\n",
       "    }\n",
       "\n",
       "    .dataframe tbody tr th {\n",
       "        vertical-align: top;\n",
       "    }\n",
       "\n",
       "    .dataframe thead th {\n",
       "        text-align: right;\n",
       "    }\n",
       "</style>\n",
       "<table border=\"1\" class=\"dataframe\">\n",
       "  <thead>\n",
       "    <tr style=\"text-align: right;\">\n",
       "      <th></th>\n",
       "      <th>answer_llm</th>\n",
       "      <th>answer_orig</th>\n",
       "      <th>document</th>\n",
       "      <th>question</th>\n",
       "      <th>course</th>\n",
       "    </tr>\n",
       "  </thead>\n",
       "  <tbody>\n",
       "    <tr>\n",
       "      <th>0</th>\n",
       "      <td>You can sign up for the course by visiting the...</td>\n",
       "      <td>Machine Learning Zoomcamp FAQ\\nThe purpose of ...</td>\n",
       "      <td>0227b872</td>\n",
       "      <td>Where can I sign up for the course?</td>\n",
       "      <td>machine-learning-zoomcamp</td>\n",
       "    </tr>\n",
       "  </tbody>\n",
       "</table>\n",
       "</div>"
      ],
      "text/plain": [
       "                                          answer_llm  \\\n",
       "0  You can sign up for the course by visiting the...   \n",
       "\n",
       "                                         answer_orig  document  \\\n",
       "0  Machine Learning Zoomcamp FAQ\\nThe purpose of ...  0227b872   \n",
       "\n",
       "                              question                     course  \n",
       "0  Where can I sign up for the course?  machine-learning-zoomcamp  "
      ]
     },
     "execution_count": 72,
     "metadata": {},
     "output_type": "execute_result"
    }
   ],
   "source": [
    "import pandas as pd\n",
    "\n",
    "res_df = pd.DataFrame(res)\n",
    "res_df.head(1)"
   ]
  },
  {
   "cell_type": "code",
   "execution_count": 75,
   "id": "d3ea4543-1f81-42b6-8929-996ed1a4cc39",
   "metadata": {},
   "outputs": [
    {
     "data": {
      "text/plain": [
       "{'answer_llm': 'You can sign up for the course by visiting the course page at [http://mlzoomcamp.com/](http://mlzoomcamp.com/).',\n",
       " 'answer_orig': 'Machine Learning Zoomcamp FAQ\\nThe purpose of this document is to capture frequently asked technical questions.\\nWe did this for our data engineering course and it worked quite well. Check this document for inspiration on how to structure your questions and answers:\\nData Engineering Zoomcamp FAQ\\nIn the course GitHub repository there’s a link. Here it is: https://airtable.com/shryxwLd0COOEaqXo\\nwork',\n",
       " 'document': '0227b872',\n",
       " 'question': 'Where can I sign up for the course?',\n",
       " 'course': 'machine-learning-zoomcamp'}"
      ]
     },
     "execution_count": 75,
     "metadata": {},
     "output_type": "execute_result"
    }
   ],
   "source": [
    "res_df.iloc[0].to_dict()"
   ]
  },
  {
   "cell_type": "code",
   "execution_count": 81,
   "id": "f6838cc1-ace2-42b0-9b95-6c2eddabf263",
   "metadata": {},
   "outputs": [
    {
     "data": {
      "text/plain": [
       "array([{'rouge-1': {'r': 0.061224489795918366, 'p': 0.21428571428571427, 'f': 0.09523809178130524}, 'rouge-2': {'r': 0.017543859649122806, 'p': 0.07142857142857142, 'f': 0.028169010918468917}, 'rouge-l': {'r': 0.061224489795918366, 'p': 0.21428571428571427, 'f': 0.09523809178130524}},\n",
       "       {'rouge-1': {'r': 0.08163265306122448, 'p': 0.26666666666666666, 'f': 0.12499999641113292}, 'rouge-2': {'r': 0.03508771929824561, 'p': 0.13333333333333333, 'f': 0.05555555225694465}, 'rouge-l': {'r': 0.061224489795918366, 'p': 0.2, 'f': 0.09374999641113295}},\n",
       "       {'rouge-1': {'r': 0.32653061224489793, 'p': 0.5714285714285714, 'f': 0.41558441095631643}, 'rouge-2': {'r': 0.14035087719298245, 'p': 0.24242424242424243, 'f': 0.17777777313333343}, 'rouge-l': {'r': 0.30612244897959184, 'p': 0.5357142857142857, 'f': 0.3896103849822905}},\n",
       "       {'rouge-1': {'r': 0.16326530612244897, 'p': 0.32, 'f': 0.2162162117421476}, 'rouge-2': {'r': 0.03508771929824561, 'p': 0.07142857142857142, 'f': 0.047058819111419105}, 'rouge-l': {'r': 0.14285714285714285, 'p': 0.28, 'f': 0.18918918471512064}},\n",
       "       {'rouge-1': {'r': 0.2653061224489796, 'p': 0.09701492537313433, 'f': 0.14207649881095297}, 'rouge-2': {'r': 0.07017543859649122, 'p': 0.0223463687150838, 'f': 0.03389830142092829}, 'rouge-l': {'r': 0.22448979591836735, 'p': 0.08208955223880597, 'f': 0.12021857531368524}},\n",
       "       {'rouge-1': {'r': 0.2894736842105263, 'p': 0.8461538461538461, 'f': 0.43137254522106894}, 'rouge-2': {'r': 0.16, 'p': 0.6666666666666666, 'f': 0.2580645130072841}, 'rouge-l': {'r': 0.2894736842105263, 'p': 0.8461538461538461, 'f': 0.43137254522106894}},\n",
       "       {'rouge-1': {'r': 0.34210526315789475, 'p': 0.52, 'f': 0.41269840791131274}, 'rouge-2': {'r': 0.14, 'p': 0.25, 'f': 0.17948717488494426}, 'rouge-l': {'r': 0.2894736842105263, 'p': 0.44, 'f': 0.34920634441924925}},\n",
       "       {'rouge-1': {'r': 0.18421052631578946, 'p': 0.875, 'f': 0.30434782321361065}, 'rouge-2': {'r': 0.08, 'p': 0.5714285714285714, 'f': 0.1403508750384734}, 'rouge-l': {'r': 0.15789473684210525, 'p': 0.75, 'f': 0.26086956234404535}},\n",
       "       {'rouge-1': {'r': 0.39473684210526316, 'p': 0.75, 'f': 0.5172413747919143}, 'rouge-2': {'r': 0.24, 'p': 0.5, 'f': 0.3243243199415632}, 'rouge-l': {'r': 0.3157894736842105, 'p': 0.6, 'f': 0.4137930989298454}},\n",
       "       {'rouge-1': {'r': 0.2894736842105263, 'p': 0.4230769230769231, 'f': 0.34374999517578125}, 'rouge-2': {'r': 0.18, 'p': 0.2647058823529412, 'f': 0.21428570946712028}, 'rouge-l': {'r': 0.2894736842105263, 'p': 0.4230769230769231, 'f': 0.34374999517578125}},\n",
       "       {'rouge-1': {'r': 0.45454545454545453, 'p': 0.45454545454545453, 'f': 0.45454544954545456}, 'rouge-2': {'r': 0.21621621621621623, 'p': 0.21621621621621623, 'f': 0.21621621121621637}, 'rouge-l': {'r': 0.3939393939393939, 'p': 0.3939393939393939, 'f': 0.393939388939394}},\n",
       "       {'rouge-1': {'r': 0.6060606060606061, 'p': 0.6060606060606061, 'f': 0.6060606010606061}, 'rouge-2': {'r': 0.43243243243243246, 'p': 0.41025641025641024, 'f': 0.42105262658241}, 'rouge-l': {'r': 0.5757575757575758, 'p': 0.5757575757575758, 'f': 0.5757575707575758}},\n",
       "       {'rouge-1': {'r': 0.7878787878787878, 'p': 0.7222222222222222, 'f': 0.753623183415249}, 'rouge-2': {'r': 0.6486486486486487, 'p': 0.5714285714285714, 'f': 0.6075949317288897}, 'rouge-l': {'r': 0.7575757575757576, 'p': 0.6944444444444444, 'f': 0.7246376761688721}},\n",
       "       {'rouge-1': {'r': 0.8181818181818182, 'p': 0.6585365853658537, 'f': 0.7297297247881666}, 'rouge-2': {'r': 0.6486486486486487, 'p': 0.5106382978723404, 'f': 0.5714285664994332}, 'rouge-l': {'r': 0.7878787878787878, 'p': 0.6341463414634146, 'f': 0.7027026977611397}},\n",
       "       {'rouge-1': {'r': 0.7575757575757576, 'p': 0.625, 'f': 0.6849315018952901}, 'rouge-2': {'r': 0.5405405405405406, 'p': 0.4444444444444444, 'f': 0.4878048730963712}, 'rouge-l': {'r': 0.6666666666666666, 'p': 0.55, 'f': 0.6027397210733721}},\n",
       "       {'rouge-1': {'r': 0.4772727272727273, 'p': 0.4772727272727273, 'f': 0.4772727222727273}, 'rouge-2': {'r': 0.2692307692307692, 'p': 0.2641509433962264, 'f': 0.2666666616671202}, 'rouge-l': {'r': 0.4318181818181818, 'p': 0.4318181818181818, 'f': 0.43181817681818185}},\n",
       "       {'rouge-1': {'r': 0.4090909090909091, 'p': 0.5806451612903226, 'f': 0.47999999515022235}, 'rouge-2': {'r': 0.23076923076923078, 'p': 0.36363636363636365, 'f': 0.28235293642629766}, 'rouge-l': {'r': 0.38636363636363635, 'p': 0.5483870967741935, 'f': 0.45333332848355556}},\n",
       "       {'rouge-1': {'r': 0.3181818181818182, 'p': 0.5, 'f': 0.3888888841358025}, 'rouge-2': {'r': 0.09615384615384616, 'p': 0.15625, 'f': 0.11904761433106596}, 'rouge-l': {'r': 0.29545454545454547, 'p': 0.4642857142857143, 'f': 0.36111110635802474}},\n",
       "       {'rouge-1': {'r': 0.2727272727272727, 'p': 0.3, 'f': 0.2857142807256236}, 'rouge-2': {'r': 0.057692307692307696, 'p': 0.075, 'f': 0.06521738638941436}, 'rouge-l': {'r': 0.2727272727272727, 'p': 0.3, 'f': 0.2857142807256236}},\n",
       "       {'rouge-1': {'r': 0.3409090909090909, 'p': 0.4166666666666667, 'f': 0.37499999505}, 'rouge-2': {'r': 0.19230769230769232, 'p': 0.2631578947368421, 'f': 0.22222221734320996}, 'rouge-l': {'r': 0.3409090909090909, 'p': 0.4166666666666667, 'f': 0.37499999505}},\n",
       "       {'rouge-1': {'r': 0.1746031746031746, 'p': 0.4230769230769231, 'f': 0.24719100710011369}, 'rouge-2': {'r': 0.05714285714285714, 'p': 0.14814814814814814, 'f': 0.08247422278669378}, 'rouge-l': {'r': 0.15873015873015872, 'p': 0.38461538461538464, 'f': 0.22471909698775408}},\n",
       "       {'rouge-1': {'r': 0.1746031746031746, 'p': 0.5789473684210527, 'f': 0.2682926793664485}, 'rouge-2': {'r': 0.08571428571428572, 'p': 0.3157894736842105, 'f': 0.13483145731599552}, 'rouge-l': {'r': 0.1746031746031746, 'p': 0.5789473684210527, 'f': 0.2682926793664485}},\n",
       "       {'rouge-1': {'r': 0.42857142857142855, 'p': 0.675, 'f': 0.5242718399095109}, 'rouge-2': {'r': 0.2714285714285714, 'p': 0.41304347826086957, 'f': 0.3275862021105827}, 'rouge-l': {'r': 0.3968253968253968, 'p': 0.625, 'f': 0.4854368884532002}},\n",
       "       {'rouge-1': {'r': 0.1111111111111111, 'p': 0.6363636363636364, 'f': 0.18918918665814466}, 'rouge-2': {'r': 0.04285714285714286, 'p': 0.3, 'f': 0.07499999781250007}, 'rouge-l': {'r': 0.09523809523809523, 'p': 0.5454545454545454, 'f': 0.16216215963111763}},\n",
       "       {'rouge-1': {'r': 0.4126984126984127, 'p': 0.65, 'f': 0.5048543641813555}, 'rouge-2': {'r': 0.21428571428571427, 'p': 0.36585365853658536, 'f': 0.27027026561155754}, 'rouge-l': {'r': 0.3968253968253968, 'p': 0.625, 'f': 0.4854368884532002}},\n",
       "       {'rouge-1': {'r': 0.6206896551724138, 'p': 0.6206896551724138, 'f': 0.6206896501724138}, 'rouge-2': {'r': 0.391304347826087, 'p': 0.36, 'f': 0.3749999950086806}, 'rouge-l': {'r': 0.603448275862069, 'p': 0.603448275862069, 'f': 0.603448270862069}},\n",
       "       {'rouge-1': {'r': 0.2413793103448276, 'p': 0.5384615384615384, 'f': 0.3333333290589569}, 'rouge-2': {'r': 0.13043478260869565, 'p': 0.3, 'f': 0.18181817759412314}, 'rouge-l': {'r': 0.2413793103448276, 'p': 0.5384615384615384, 'f': 0.3333333290589569}},\n",
       "       {'rouge-1': {'r': 0.3275862068965517, 'p': 0.5588235294117647, 'f': 0.4130434736011342}, 'rouge-2': {'r': 0.17391304347826086, 'p': 0.3, 'f': 0.22018348159245865}, 'rouge-l': {'r': 0.3275862068965517, 'p': 0.5588235294117647, 'f': 0.4130434736011342}},\n",
       "       {'rouge-1': {'r': 0.5517241379310345, 'p': 0.7441860465116279, 'f': 0.633663361446917}, 'rouge-2': {'r': 0.391304347826087, 'p': 0.4909090909090909, 'f': 0.43548386603147765}, 'rouge-l': {'r': 0.5517241379310345, 'p': 0.7441860465116279, 'f': 0.633663361446917}},\n",
       "       {'rouge-1': {'r': 0.27586206896551724, 'p': 0.5161290322580645, 'f': 0.359550557257922}, 'rouge-2': {'r': 0.15942028985507245, 'p': 0.3142857142857143, 'f': 0.21153845707285512}, 'rouge-l': {'r': 0.25862068965517243, 'p': 0.4838709677419355, 'f': 0.3370786471455625}},\n",
       "       {'rouge-1': {'r': 0.55, 'p': 0.3793103448275862, 'f': 0.4489795870054144}, 'rouge-2': {'r': 0.25, 'p': 0.17857142857142858, 'f': 0.20833332847222233}, 'rouge-l': {'r': 0.55, 'p': 0.3793103448275862, 'f': 0.4489795870054144}},\n",
       "       {'rouge-1': {'r': 0.6, 'p': 0.46153846153846156, 'f': 0.5217391255198489}, 'rouge-2': {'r': 0.3, 'p': 0.2222222222222222, 'f': 0.2553191440470802}, 'rouge-l': {'r': 0.6, 'p': 0.46153846153846156, 'f': 0.5217391255198489}},\n",
       "       {'rouge-1': {'r': 0.45, 'p': 0.375, 'f': 0.4090909041322315}, 'rouge-2': {'r': 0.15, 'p': 0.13043478260869565, 'f': 0.13953487874526788}, 'rouge-l': {'r': 0.4, 'p': 0.3333333333333333, 'f': 0.36363635867768596}},\n",
       "       {'rouge-1': {'r': 0.45, 'p': 0.18, 'f': 0.25714285306122453}, 'rouge-2': {'r': 0.2, 'p': 0.07017543859649122, 'f': 0.10389610005059889}, 'rouge-l': {'r': 0.45, 'p': 0.18, 'f': 0.25714285306122453}},\n",
       "       {'rouge-1': {'r': 0.15, 'p': 0.1875, 'f': 0.16666666172839517}, 'rouge-2': {'r': 0.0, 'p': 0.0, 'f': 0.0}, 'rouge-l': {'r': 0.15, 'p': 0.1875, 'f': 0.16666666172839517}},\n",
       "       {'rouge-1': {'r': 0.13793103448275862, 'p': 0.36363636363636365, 'f': 0.19999999601250007}, 'rouge-2': {'r': 0.10344827586206896, 'p': 0.3, 'f': 0.15384615003287322}, 'rouge-l': {'r': 0.13793103448275862, 'p': 0.36363636363636365, 'f': 0.19999999601250007}},\n",
       "       {'rouge-1': {'r': 0.20689655172413793, 'p': 0.5454545454545454, 'f': 0.29999999601250005}, 'rouge-2': {'r': 0.06896551724137931, 'p': 0.2, 'f': 0.10256409875082198}, 'rouge-l': {'r': 0.13793103448275862, 'p': 0.36363636363636365, 'f': 0.19999999601250007}},\n",
       "       {'rouge-1': {'r': 0.3103448275862069, 'p': 0.6923076923076923, 'f': 0.42857142429705225}, 'rouge-2': {'r': 0.20689655172413793, 'p': 0.46153846153846156, 'f': 0.28571428143990935}, 'rouge-l': {'r': 0.3103448275862069, 'p': 0.6923076923076923, 'f': 0.42857142429705225}},\n",
       "       {'rouge-1': {'r': 0.1724137931034483, 'p': 0.35714285714285715, 'f': 0.23255813514332083}, 'rouge-2': {'r': 0.06896551724137931, 'p': 0.15384615384615385, 'f': 0.09523809096371902}, 'rouge-l': {'r': 0.1724137931034483, 'p': 0.35714285714285715, 'f': 0.23255813514332083}},\n",
       "       {'rouge-1': {'r': 0.7586206896551724, 'p': 0.6666666666666666, 'f': 0.7096774143756504}, 'rouge-2': {'r': 0.6206896551724138, 'p': 0.5142857142857142, 'f': 0.5624999950439454}, 'rouge-l': {'r': 0.6551724137931034, 'p': 0.5757575757575758, 'f': 0.6129032208272632}},\n",
       "       {'rouge-1': {'r': 0.47058823529411764, 'p': 0.5, 'f': 0.4848484798530762}, 'rouge-2': {'r': 0.3157894736842105, 'p': 0.3333333333333333, 'f': 0.3243243193279767}, 'rouge-l': {'r': 0.47058823529411764, 'p': 0.5, 'f': 0.4848484798530762}},\n",
       "       {'rouge-1': {'r': 0.35294117647058826, 'p': 0.4444444444444444, 'f': 0.3934426180166622}, 'rouge-2': {'r': 0.18421052631578946, 'p': 0.23333333333333334, 'f': 0.20588234801038074}, 'rouge-l': {'r': 0.35294117647058826, 'p': 0.4444444444444444, 'f': 0.3934426180166622}},\n",
       "       {'rouge-1': {'r': 0.47058823529411764, 'p': 0.5925925925925926, 'f': 0.5245901590002687}, 'rouge-2': {'r': 0.34210526315789475, 'p': 0.41935483870967744, 'f': 0.3768115892543584}, 'rouge-l': {'r': 0.47058823529411764, 'p': 0.5925925925925926, 'f': 0.5245901590002687}},\n",
       "       {'rouge-1': {'r': 0.35294117647058826, 'p': 0.3870967741935484, 'f': 0.3692307642414202}, 'rouge-2': {'r': 0.18421052631578946, 'p': 0.19444444444444445, 'f': 0.18918918419284161}, 'rouge-l': {'r': 0.3235294117647059, 'p': 0.3548387096774194, 'f': 0.3384615334721894}},\n",
       "       {'rouge-1': {'r': 0.14705882352941177, 'p': 0.45454545454545453, 'f': 0.22222221852839513}, 'rouge-2': {'r': 0.05263157894736842, 'p': 0.18181818181818182, 'f': 0.08163264957934209}, 'rouge-l': {'r': 0.14705882352941177, 'p': 0.45454545454545453, 'f': 0.22222221852839513}},\n",
       "       {'rouge-1': {'r': 0.2857142857142857, 'p': 0.06896551724137931, 'f': 0.11111110797839514}, 'rouge-2': {'r': 0.0, 'p': 0.0, 'f': 0.0}, 'rouge-l': {'r': 0.2857142857142857, 'p': 0.06896551724137931, 'f': 0.11111110797839514}},\n",
       "       {'rouge-1': {'r': 0.42857142857142855, 'p': 0.0967741935483871, 'f': 0.15789473383656513}, 'rouge-2': {'r': 0.0, 'p': 0.0, 'f': 0.0}, 'rouge-l': {'r': 0.42857142857142855, 'p': 0.0967741935483871, 'f': 0.15789473383656513}},\n",
       "       {'rouge-1': {'r': 0.2857142857142857, 'p': 0.06060606060606061, 'f': 0.09999999711250009}, 'rouge-2': {'r': 0.0, 'p': 0.0, 'f': 0.0}, 'rouge-l': {'r': 0.2857142857142857, 'p': 0.06060606060606061, 'f': 0.09999999711250009}},\n",
       "       {'rouge-1': {'r': 0.14285714285714285, 'p': 0.03333333333333333, 'f': 0.054054050986121434}, 'rouge-2': {'r': 0.0, 'p': 0.0, 'f': 0.0}, 'rouge-l': {'r': 0.14285714285714285, 'p': 0.03333333333333333, 'f': 0.054054050986121434}},\n",
       "       {'rouge-1': {'r': 0.2857142857142857, 'p': 0.05555555555555555, 'f': 0.09302325308815583}, 'rouge-2': {'r': 0.0, 'p': 0.0, 'f': 0.0}, 'rouge-l': {'r': 0.2857142857142857, 'p': 0.05555555555555555, 'f': 0.09302325308815583}},\n",
       "       {'rouge-1': {'r': 0.4520547945205479, 'p': 0.44594594594594594, 'f': 0.44897958683696615}, 'rouge-2': {'r': 0.21212121212121213, 'p': 0.21649484536082475, 'f': 0.214285709286235}, 'rouge-l': {'r': 0.4246575342465753, 'p': 0.4189189189189189, 'f': 0.4217687024832246}},\n",
       "       {'rouge-1': {'r': 0.4794520547945205, 'p': 0.5, 'f': 0.48951048451269014}, 'rouge-2': {'r': 0.21212121212121213, 'p': 0.22105263157894736, 'f': 0.2164948403629505}, 'rouge-l': {'r': 0.4246575342465753, 'p': 0.44285714285714284, 'f': 0.4335664285686342}},\n",
       "       {'rouge-1': {'r': 0.2328767123287671, 'p': 0.2463768115942029, 'f': 0.23943661472227742}, 'rouge-2': {'r': 0.08080808080808081, 'p': 0.09302325581395349, 'f': 0.08648648151117633}, 'rouge-l': {'r': 0.2191780821917808, 'p': 0.2318840579710145, 'f': 0.2253521076800239}},\n",
       "       {'rouge-1': {'r': 0.3150684931506849, 'p': 0.696969696969697, 'f': 0.4339622598629406}, 'rouge-2': {'r': 0.18181818181818182, 'p': 0.42857142857142855, 'f': 0.2553191447532821}, 'rouge-l': {'r': 0.2876712328767123, 'p': 0.6363636363636364, 'f': 0.3962264108063368}},\n",
       "       {'rouge-1': {'r': 0.3561643835616438, 'p': 0.49056603773584906, 'f': 0.41269840782438905}, 'rouge-2': {'r': 0.12121212121212122, 'p': 0.17142857142857143, 'f': 0.14201182946675553}, 'rouge-l': {'r': 0.3013698630136986, 'p': 0.41509433962264153, 'f': 0.3492063443323256}},\n",
       "       {'rouge-1': {'r': 0.6097560975609756, 'p': 0.7142857142857143, 'f': 0.6578947318732687}, 'rouge-2': {'r': 0.46938775510204084, 'p': 0.5476190476190477, 'f': 0.5054945005240913}, 'rouge-l': {'r': 0.5609756097560976, 'p': 0.6571428571428571, 'f': 0.6052631529259005}},\n",
       "       {'rouge-1': {'r': 0.3170731707317073, 'p': 0.8125, 'f': 0.45614034683902743}, 'rouge-2': {'r': 0.16326530612244897, 'p': 0.5333333333333333, 'f': 0.24999999641113285}, 'rouge-l': {'r': 0.3170731707317073, 'p': 0.8125, 'f': 0.45614034683902743}},\n",
       "       {'rouge-1': {'r': 0.5365853658536586, 'p': 0.5641025641025641, 'f': 0.5499999950031251}, 'rouge-2': {'r': 0.32653061224489793, 'p': 0.3333333333333333, 'f': 0.3298969022170263}, 'rouge-l': {'r': 0.4878048780487805, 'p': 0.5128205128205128, 'f': 0.4999999950031251}},\n",
       "       {'rouge-1': {'r': 0.2926829268292683, 'p': 0.4444444444444444, 'f': 0.3529411716825259}, 'rouge-2': {'r': 0.10204081632653061, 'p': 0.16129032258064516, 'f': 0.1249999952531252}, 'rouge-l': {'r': 0.24390243902439024, 'p': 0.37037037037037035, 'f': 0.29411764227076126}},\n",
       "       {'rouge-1': {'r': 0.2682926829268293, 'p': 0.39285714285714285, 'f': 0.31884057488762874}, 'rouge-2': {'r': 0.08163265306122448, 'p': 0.125, 'f': 0.09876542731900649}, 'rouge-l': {'r': 0.17073170731707318, 'p': 0.25, 'f': 0.2028985459021215}},\n",
       "       {'rouge-1': {'r': 0.1, 'p': 0.03225806451612903, 'f': 0.04878048411659754}, 'rouge-2': {'r': 0.0, 'p': 0.0, 'f': 0.0}, 'rouge-l': {'r': 0.1, 'p': 0.03225806451612903, 'f': 0.04878048411659754}},\n",
       "       {'rouge-1': {'r': 0.6, 'p': 0.12244897959183673, 'f': 0.2033898276931916}, 'rouge-2': {'r': 0.4444444444444444, 'p': 0.06779661016949153, 'f': 0.11764705652681663}, 'rouge-l': {'r': 0.6, 'p': 0.12244897959183673, 'f': 0.2033898276931916}},\n",
       "       {'rouge-1': {'r': 0.6, 'p': 0.12, 'f': 0.19999999722222223}, 'rouge-2': {'r': 0.3333333333333333, 'p': 0.05084745762711865, 'f': 0.08823529182093431}, 'rouge-l': {'r': 0.6, 'p': 0.12, 'f': 0.19999999722222223}},\n",
       "       {'rouge-1': {'r': 0.2, 'p': 0.07142857142857142, 'f': 0.10526315401662063}, 'rouge-2': {'r': 0.0, 'p': 0.0, 'f': 0.0}, 'rouge-l': {'r': 0.2, 'p': 0.07142857142857142, 'f': 0.10526315401662063}},\n",
       "       {'rouge-1': {'r': 0.1, 'p': 0.009345794392523364, 'f': 0.017094015530718237}, 'rouge-2': {'r': 0.0, 'p': 0.0, 'f': 0.0}, 'rouge-l': {'r': 0.1, 'p': 0.009345794392523364, 'f': 0.017094015530718237}},\n",
       "       {'rouge-1': {'r': 0.6029411764705882, 'p': 0.6612903225806451, 'f': 0.6307692257798817}, 'rouge-2': {'r': 0.5161290322580645, 'p': 0.6153846153846154, 'f': 0.5614035038104033}, 'rouge-l': {'r': 0.6029411764705882, 'p': 0.6612903225806451, 'f': 0.6307692257798817}},\n",
       "       {'rouge-1': {'r': 0.5588235294117647, 'p': 0.5757575757575758, 'f': 0.5671641741055915}, 'rouge-2': {'r': 0.43010752688172044, 'p': 0.47058823529411764, 'f': 0.4494381972572908}, 'rouge-l': {'r': 0.5588235294117647, 'p': 0.5757575757575758, 'f': 0.5671641741055915}},\n",
       "       {'rouge-1': {'r': 0.16176470588235295, 'p': 0.5, 'f': 0.24444444075061733}, 'rouge-2': {'r': 0.07526881720430108, 'p': 0.2916666666666667, 'f': 0.11965811639710727}, 'rouge-l': {'r': 0.14705882352941177, 'p': 0.45454545454545453, 'f': 0.22222221852839513}},\n",
       "       {'rouge-1': {'r': 0.23529411764705882, 'p': 0.7619047619047619, 'f': 0.35955055819214743}, 'rouge-2': {'r': 0.12903225806451613, 'p': 0.4444444444444444, 'f': 0.19999999651250003}, 'rouge-l': {'r': 0.20588235294117646, 'p': 0.6666666666666666, 'f': 0.31460673796742833}},\n",
       "       {'rouge-1': {'r': 0.6029411764705882, 'p': 0.6612903225806451, 'f': 0.6307692257798817}, 'rouge-2': {'r': 0.4946236559139785, 'p': 0.6052631578947368, 'f': 0.5443786932754456}, 'rouge-l': {'r': 0.6029411764705882, 'p': 0.6612903225806451, 'f': 0.6307692257798817}},\n",
       "       {'rouge-1': {'r': 0.5192307692307693, 'p': 0.7941176470588235, 'f': 0.6279069719632235}, 'rouge-2': {'r': 0.4142857142857143, 'p': 0.6744186046511628, 'f': 0.5132743315686429}, 'rouge-l': {'r': 0.4807692307692308, 'p': 0.7352941176470589, 'f': 0.5813953440562467}},\n",
       "       {'rouge-1': {'r': 0.46153846153846156, 'p': 0.7272727272727273, 'f': 0.5647058776027682}, 'rouge-2': {'r': 0.32857142857142857, 'p': 0.575, 'f': 0.4181818135537191}, 'rouge-l': {'r': 0.46153846153846156, 'p': 0.7272727272727273, 'f': 0.5647058776027682}},\n",
       "       {'rouge-1': {'r': 0.36538461538461536, 'p': 0.9047619047619048, 'f': 0.5205479411071496}, 'rouge-2': {'r': 0.24285714285714285, 'p': 0.7727272727272727, 'f': 0.369565213752363}, 'rouge-l': {'r': 0.36538461538461536, 'p': 0.9047619047619048, 'f': 0.5205479411071496}},\n",
       "       {'rouge-1': {'r': 0.28846153846153844, 'p': 0.6818181818181818, 'f': 0.4054054012271731}, 'rouge-2': {'r': 0.14285714285714285, 'p': 0.43478260869565216, 'f': 0.21505375971788648}, 'rouge-l': {'r': 0.28846153846153844, 'p': 0.6818181818181818, 'f': 0.4054054012271731}},\n",
       "       {'rouge-1': {'r': 0.5576923076923077, 'p': 0.7073170731707317, 'f': 0.6236559090484449}, 'rouge-2': {'r': 0.44285714285714284, 'p': 0.62, 'f': 0.5166666618055558}, 'rouge-l': {'r': 0.5384615384615384, 'p': 0.6829268292682927, 'f': 0.6021505327043589}},\n",
       "       {'rouge-1': {'r': 0.36585365853658536, 'p': 0.8333333333333334, 'f': 0.5084745720310256}, 'rouge-2': {'r': 0.19148936170212766, 'p': 0.5, 'f': 0.2769230729183432}, 'rouge-l': {'r': 0.34146341463414637, 'p': 0.7777777777777778, 'f': 0.47457626694627986}},\n",
       "       {'rouge-1': {'r': 0.6585365853658537, 'p': 0.7297297297297297, 'f': 0.6923076873208417}, 'rouge-2': {'r': 0.425531914893617, 'p': 0.45454545454545453, 'f': 0.4395604345658737}, 'rouge-l': {'r': 0.6341463414634146, 'p': 0.7027027027027027, 'f': 0.666666661679816}},\n",
       "       {'rouge-1': {'r': 0.3170731707317073, 'p': 0.5909090909090909, 'f': 0.41269840815318726}, 'rouge-2': {'r': 0.10638297872340426, 'p': 0.22727272727272727, 'f': 0.14492753188825888}, 'rouge-l': {'r': 0.2682926829268293, 'p': 0.5, 'f': 0.34920634466112377}},\n",
       "       {'rouge-1': {'r': 0.5853658536585366, 'p': 0.5714285714285714, 'f': 0.5783132480127741}, 'rouge-2': {'r': 0.2978723404255319, 'p': 0.2916666666666667, 'f': 0.2947368371058172}, 'rouge-l': {'r': 0.5609756097560976, 'p': 0.5476190476190477, 'f': 0.5542168624706055}},\n",
       "       {'rouge-1': {'r': 0.21951219512195122, 'p': 0.5294117647058824, 'f': 0.3103448234423306}, 'rouge-2': {'r': 0.0851063829787234, 'p': 0.2222222222222222, 'f': 0.12307691907218948}, 'rouge-l': {'r': 0.1951219512195122, 'p': 0.47058823529411764, 'f': 0.27586206482164094}},\n",
       "       {'rouge-1': {'r': 0.7, 'p': 0.5185185185185185, 'f': 0.5957446759619739}, 'rouge-2': {'r': 0.5, 'p': 0.36666666666666664, 'f': 0.42307691819526627}, 'rouge-l': {'r': 0.7, 'p': 0.5185185185185185, 'f': 0.5957446759619739}},\n",
       "       {'rouge-1': {'r': 0.7, 'p': 0.6666666666666666, 'f': 0.682926824271267}, 'rouge-2': {'r': 0.5909090909090909, 'p': 0.52, 'f': 0.5531914843820736}, 'rouge-l': {'r': 0.7, 'p': 0.6666666666666666, 'f': 0.682926824271267}},\n",
       "       {'rouge-1': {'r': 0.65, 'p': 0.4482758620689655, 'f': 0.530612240066639}, 'rouge-2': {'r': 0.5909090909090909, 'p': 0.35135135135135137, 'f': 0.4406779614248779}, 'rouge-l': {'r': 0.65, 'p': 0.4482758620689655, 'f': 0.530612240066639}},\n",
       "       {'rouge-1': {'r': 0.85, 'p': 0.85, 'f': 0.849999995}, 'rouge-2': {'r': 0.7727272727272727, 'p': 0.7083333333333334, 'f': 0.7391304297920607}, 'rouge-l': {'r': 0.85, 'p': 0.85, 'f': 0.849999995}},\n",
       "       {'rouge-1': {'r': 0.55, 'p': 0.3548387096774194, 'f': 0.4313725442522107}, 'rouge-2': {'r': 0.36363636363636365, 'p': 0.2222222222222222, 'f': 0.2758620642568371}, 'rouge-l': {'r': 0.5, 'p': 0.3225806451612903, 'f': 0.39215685797770095}},\n",
       "       {'rouge-1': {'r': 0.4426229508196721, 'p': 0.7105263157894737, 'f': 0.5454545407244159}, 'rouge-2': {'r': 0.3472222222222222, 'p': 0.5681818181818182, 'f': 0.43103447804994055}, 'rouge-l': {'r': 0.4426229508196721, 'p': 0.7105263157894737, 'f': 0.5454545407244159}},\n",
       "       {'rouge-1': {'r': 0.5737704918032787, 'p': 0.5932203389830508, 'f': 0.5833333283347223}, 'rouge-2': {'r': 0.4027777777777778, 'p': 0.4027777777777778, 'f': 0.4027777727777778}, 'rouge-l': {'r': 0.5737704918032787, 'p': 0.5932203389830508, 'f': 0.5833333283347223}},\n",
       "       {'rouge-1': {'r': 0.5901639344262295, 'p': 0.6206896551724138, 'f': 0.6050420118099005}, 'rouge-2': {'r': 0.3472222222222222, 'p': 0.3125, 'f': 0.3289473634349031}, 'rouge-l': {'r': 0.5573770491803278, 'p': 0.5862068965517241, 'f': 0.5714285664317493}},\n",
       "       {'rouge-1': {'r': 0.22950819672131148, 'p': 0.6363636363636364, 'f': 0.3373493936942953}, 'rouge-2': {'r': 0.08333333333333333, 'p': 0.2608695652173913, 'f': 0.12631578580387823}, 'rouge-l': {'r': 0.19672131147540983, 'p': 0.5454545454545454, 'f': 0.28915662260995795}},\n",
       "       {'rouge-1': {'r': 0.11475409836065574, 'p': 1.0, 'f': 0.2058823510942907}, 'rouge-2': {'r': 0.08333333333333333, 'p': 1.0, 'f': 0.15384615242603553}, 'rouge-l': {'r': 0.11475409836065574, 'p': 1.0, 'f': 0.2058823510942907}},\n",
       "       {'rouge-1': {'r': 0.35714285714285715, 'p': 0.35714285714285715, 'f': 0.3571428521428572}, 'rouge-2': {'r': 0.2, 'p': 0.1875, 'f': 0.19354838210197725}, 'rouge-l': {'r': 0.35714285714285715, 'p': 0.35714285714285715, 'f': 0.3571428521428572}},\n",
       "       {'rouge-1': {'r': 0.5, 'p': 0.4117647058823529, 'f': 0.4516128982726327}, 'rouge-2': {'r': 0.4, 'p': 0.3333333333333333, 'f': 0.36363635867768596}, 'rouge-l': {'r': 0.5, 'p': 0.4117647058823529, 'f': 0.4516128982726327}},\n",
       "       {'rouge-1': {'r': 0.5, 'p': 0.5, 'f': 0.4999999950000001}, 'rouge-2': {'r': 0.3333333333333333, 'p': 0.3333333333333333, 'f': 0.3333333283333334}, 'rouge-l': {'r': 0.42857142857142855, 'p': 0.42857142857142855, 'f': 0.4285714235714286}},\n",
       "       {'rouge-1': {'r': 0.42857142857142855, 'p': 0.5, 'f': 0.4615384565680473}, 'rouge-2': {'r': 0.3333333333333333, 'p': 0.38461538461538464, 'f': 0.35714285216836733}, 'rouge-l': {'r': 0.42857142857142855, 'p': 0.5, 'f': 0.4615384565680473}},\n",
       "       {'rouge-1': {'r': 0.6428571428571429, 'p': 0.5, 'f': 0.5624999950781251}, 'rouge-2': {'r': 0.4, 'p': 0.3157894736842105, 'f': 0.35294117153979243}, 'rouge-l': {'r': 0.5714285714285714, 'p': 0.4444444444444444, 'f': 0.4999999950781251}},\n",
       "       {'rouge-1': {'r': 0.6206896551724138, 'p': 0.5142857142857142, 'f': 0.5624999950439454}, 'rouge-2': {'r': 0.36363636363636365, 'p': 0.26666666666666666, 'f': 0.3076923028106509}, 'rouge-l': {'r': 0.5862068965517241, 'p': 0.4857142857142857, 'f': 0.5312499950439454}},\n",
       "       {'rouge-1': {'r': 0.6206896551724138, 'p': 0.6, 'f': 0.6101694865268602}, 'rouge-2': {'r': 0.5151515151515151, 'p': 0.4146341463414634, 'f': 0.4594594545178963}, 'rouge-l': {'r': 0.5862068965517241, 'p': 0.5666666666666667, 'f': 0.5762711814421144}},\n",
       "       {'rouge-1': {'r': 0.20689655172413793, 'p': 0.5, 'f': 0.2926829226888757}, 'rouge-2': {'r': 0.06060606060606061, 'p': 0.15384615384615385, 'f': 0.0869565176843102}, 'rouge-l': {'r': 0.20689655172413793, 'p': 0.5, 'f': 0.2926829226888757}},\n",
       "       {'rouge-1': {'r': 0.3793103448275862, 'p': 0.5789473684210527, 'f': 0.45833332855034725}, 'rouge-2': {'r': 0.09090909090909091, 'p': 0.14285714285714285, 'f': 0.11111110635802489}, 'rouge-l': {'r': 0.2413793103448276, 'p': 0.3684210526315789, 'f': 0.2916666618836806}},\n",
       "       {'rouge-1': {'r': 0.5862068965517241, 'p': 0.7083333333333334, 'f': 0.6415094290067641}, 'rouge-2': {'r': 0.5454545454545454, 'p': 0.5625, 'f': 0.5538461488473373}, 'rouge-l': {'r': 0.5862068965517241, 'p': 0.7083333333333334, 'f': 0.6415094290067641}},\n",
       "       {'rouge-1': {'r': 0.8541666666666666, 'p': 0.7592592592592593, 'f': 0.803921563644752}, 'rouge-2': {'r': 0.6229508196721312, 'p': 0.5428571428571428, 'f': 0.5801526667793252}, 'rouge-l': {'r': 0.8125, 'p': 0.7222222222222222, 'f': 0.7647058773702423}},\n",
       "       {'rouge-1': {'r': 0.25, 'p': 0.6, 'f': 0.3529411723183391}, 'rouge-2': {'r': 0.09836065573770492, 'p': 0.2608695652173913, 'f': 0.1428571388803856}, 'rouge-l': {'r': 0.22916666666666666, 'p': 0.55, 'f': 0.32352940761245674}},\n",
       "       {'rouge-1': {'r': 0.22916666666666666, 'p': 0.4782608695652174, 'f': 0.3098591505494942}, 'rouge-2': {'r': 0.14754098360655737, 'p': 0.32142857142857145, 'f': 0.20224718669864927}, 'rouge-l': {'r': 0.20833333333333334, 'p': 0.43478260869565216, 'f': 0.28169013646498714}},\n",
       "       {'rouge-1': {'r': 0.4583333333333333, 'p': 0.5945945945945946, 'f': 0.5176470539072665}, 'rouge-2': {'r': 0.22950819672131148, 'p': 0.34146341463414637, 'f': 0.27450979911380247}, 'rouge-l': {'r': 0.375, 'p': 0.4864864864864865, 'f': 0.423529406848443}},\n",
       "       {'rouge-1': {'r': 0.125, 'p': 0.5454545454545454, 'f': 0.20338982747486356}, 'rouge-2': {'r': 0.03278688524590164, 'p': 0.18181818181818182, 'f': 0.05555555296682112}, 'rouge-l': {'r': 0.125, 'p': 0.5454545454545454, 'f': 0.20338982747486356}},\n",
       "       {'rouge-1': {'r': 0.16842105263157894, 'p': 0.9411764705882353, 'f': 0.2857142831393495}, 'rouge-2': {'r': 0.1076923076923077, 'p': 0.8235294117647058, 'f': 0.19047618843074646}, 'rouge-l': {'r': 0.16842105263157894, 'p': 0.9411764705882353, 'f': 0.2857142831393495}},\n",
       "       {'rouge-1': {'r': 0.42105263157894735, 'p': 0.5555555555555556, 'f': 0.47904191126250495}, 'rouge-2': {'r': 0.15384615384615385, 'p': 0.21505376344086022, 'f': 0.1793721924470632}, 'rouge-l': {'r': 0.3368421052631579, 'p': 0.4444444444444444, 'f': 0.38323352802897204}},\n",
       "       {'rouge-1': {'r': 0.21052631578947367, 'p': 0.6896551724137931, 'f': 0.3225806415777836}, 'rouge-2': {'r': 0.046153846153846156, 'p': 0.1875, 'f': 0.07407407090382578}, 'rouge-l': {'r': 0.18947368421052632, 'p': 0.6206896551724138, 'f': 0.29032257706165454}},\n",
       "       {'rouge-1': {'r': 0.23157894736842105, 'p': 0.8148148148148148, 'f': 0.36065573425826397}, 'rouge-2': {'r': 0.07692307692307693, 'p': 0.2702702702702703, 'f': 0.11976047559252762}, 'rouge-l': {'r': 0.22105263157894736, 'p': 0.7777777777777778, 'f': 0.34426229163531313}},\n",
       "       {'rouge-1': {'r': 0.22105263157894736, 'p': 0.6774193548387096, 'f': 0.33333332962333084}, 'rouge-2': {'r': 0.038461538461538464, 'p': 0.125, 'f': 0.058823525813149015}, 'rouge-l': {'r': 0.18947368421052632, 'p': 0.5806451612903226, 'f': 0.2857142820042832}},\n",
       "       {'rouge-1': {'r': 0.34146341463414637, 'p': 0.2916666666666667, 'f': 0.3146067366039642}, 'rouge-2': {'r': 0.14814814814814814, 'p': 0.12307692307692308, 'f': 0.1344537765553282}, 'rouge-l': {'r': 0.3170731707317073, 'p': 0.2708333333333333, 'f': 0.2921348264916046}},\n",
       "       {'rouge-1': {'r': 0.6829268292682927, 'p': 0.7368421052631579, 'f': 0.7088607545008814}, 'rouge-2': {'r': 0.5185185185185185, 'p': 0.509090909090909, 'f': 0.5137614628903292}, 'rouge-l': {'r': 0.6341463414634146, 'p': 0.6842105263157895, 'f': 0.6582278431084763}},\n",
       "       {'rouge-1': {'r': 0.7317073170731707, 'p': 0.7692307692307693, 'f': 0.749999995003125}, 'rouge-2': {'r': 0.7037037037037037, 'p': 0.7037037037037037, 'f': 0.7037036987037039}, 'rouge-l': {'r': 0.7073170731707317, 'p': 0.7435897435897436, 'f': 0.7249999950031251}},\n",
       "       {'rouge-1': {'r': 0.7073170731707317, 'p': 0.725, 'f': 0.7160493777168117}, 'rouge-2': {'r': 0.5, 'p': 0.4909090909090909, 'f': 0.4954128390371181}, 'rouge-l': {'r': 0.6829268292682927, 'p': 0.7, 'f': 0.6913580196921202}},\n",
       "       {'rouge-1': {'r': 0.6585365853658537, 'p': 0.8181818181818182, 'f': 0.7297297247881666}, 'rouge-2': {'r': 0.5185185185185185, 'p': 0.5490196078431373, 'f': 0.5333333283374151}, 'rouge-l': {'r': 0.6585365853658537, 'p': 0.8181818181818182, 'f': 0.7297297247881666}},\n",
       "       {'rouge-1': {'r': 0.12162162162162163, 'p': 0.42857142857142855, 'f': 0.18947368076675905}, 'rouge-2': {'r': 0.023809523809523808, 'p': 0.08695652173913043, 'f': 0.03738317419512652}, 'rouge-l': {'r': 0.10810810810810811, 'p': 0.38095238095238093, 'f': 0.1684210491878117}},\n",
       "       {'rouge-1': {'r': 0.3918918918918919, 'p': 0.5686274509803921, 'f': 0.46399999516928003}, 'rouge-2': {'r': 0.23809523809523808, 'p': 0.3448275862068966, 'f': 0.28169013601269594}, 'rouge-l': {'r': 0.35135135135135137, 'p': 0.5098039215686274, 'f': 0.41599999516928005}},\n",
       "       {'rouge-1': {'r': 0.13513513513513514, 'p': 0.3225806451612903, 'f': 0.19047618631473934}, 'rouge-2': {'r': 0.03571428571428571, 'p': 0.08333333333333333, 'f': 0.049999995800000356}, 'rouge-l': {'r': 0.13513513513513514, 'p': 0.3225806451612903, 'f': 0.19047618631473934}},\n",
       "       {'rouge-1': {'r': 0.24324324324324326, 'p': 0.5454545454545454, 'f': 0.3364485938649664}, 'rouge-2': {'r': 0.08333333333333333, 'p': 0.18421052631578946, 'f': 0.11475409407148632}, 'rouge-l': {'r': 0.21621621621621623, 'p': 0.48484848484848486, 'f': 0.299065416294873}},\n",
       "       {'rouge-1': {'r': 0.4594594594594595, 'p': 0.38202247191011235, 'f': 0.4171779091527721}, 'rouge-2': {'r': 0.30952380952380953, 'p': 0.22608695652173913, 'f': 0.26130652778465197}, 'rouge-l': {'r': 0.44594594594594594, 'p': 0.3707865168539326, 'f': 0.40490797050246535}},\n",
       "       {'rouge-1': {'r': 0.2088607594936709, 'p': 0.6111111111111112, 'f': 0.3113207509202564}, 'rouge-2': {'r': 0.08571428571428572, 'p': 0.3333333333333333, 'f': 0.13636363310950422}, 'rouge-l': {'r': 0.189873417721519, 'p': 0.5555555555555556, 'f': 0.2830188641278035}},\n",
       "       {'rouge-1': {'r': 0.17088607594936708, 'p': 0.54, 'f': 0.2596153809633876}, 'rouge-2': {'r': 0.07346938775510205, 'p': 0.2535211267605634, 'f': 0.11392404714889454}, 'rouge-l': {'r': 0.15822784810126583, 'p': 0.5, 'f': 0.2403846117326184}},\n",
       "       {'rouge-1': {'r': 0.2848101265822785, 'p': 0.6617647058823529, 'f': 0.39823008428851125}, 'rouge-2': {'r': 0.1673469387755102, 'p': 0.40594059405940597, 'f': 0.23699421551922892}, 'rouge-l': {'r': 0.27848101265822783, 'p': 0.6470588235294118, 'f': 0.38938052676638735}},\n",
       "       {'rouge-1': {'r': 0.25949367088607594, 'p': 0.7884615384615384, 'f': 0.3904761867501135}, 'rouge-2': {'r': 0.12653061224489795, 'p': 0.4626865671641791, 'f': 0.19871794534537315}, 'rouge-l': {'r': 0.24050632911392406, 'p': 0.7307692307692307, 'f': 0.3619047581786848}},\n",
       "       {'rouge-1': {'r': 0.35443037974683544, 'p': 0.7567567567567568, 'f': 0.48275861634512496}, 'rouge-2': {'r': 0.23265306122448978, 'p': 0.59375, 'f': 0.33431084639450986}, 'rouge-l': {'r': 0.34177215189873417, 'p': 0.7297297297297297, 'f': 0.4655172370347801}},\n",
       "       {'rouge-1': {'r': 0.3684210526315789, 'p': 0.2692307692307692, 'f': 0.3111111062320988}, 'rouge-2': {'r': 0.14705882352941177, 'p': 0.09345794392523364, 'f': 0.11428570953404102}, 'rouge-l': {'r': 0.3684210526315789, 'p': 0.2692307692307692, 'f': 0.3111111062320988}},\n",
       "       {'rouge-1': {'r': 0.22807017543859648, 'p': 0.2653061224489796, 'f': 0.2452830138964045}, 'rouge-2': {'r': 0.07352941176470588, 'p': 0.08333333333333333, 'f': 0.07812499501953157}, 'rouge-l': {'r': 0.21052631578947367, 'p': 0.24489795918367346, 'f': 0.22641508936810262}},\n",
       "       {'rouge-1': {'r': 0.2807017543859649, 'p': 0.2077922077922078, 'f': 0.23880596526063722}, 'rouge-2': {'r': 0.058823529411764705, 'p': 0.04040404040404041, 'f': 0.04790418678905711}, 'rouge-l': {'r': 0.2631578947368421, 'p': 0.19480519480519481, 'f': 0.22388059212630887}},\n",
       "       {'rouge-1': {'r': 0.14035087719298245, 'p': 0.6153846153846154, 'f': 0.2285714255469388}, 'rouge-2': {'r': 0.029411764705882353, 'p': 0.15384615384615385, 'f': 0.04938271335467169}, 'rouge-l': {'r': 0.14035087719298245, 'p': 0.6153846153846154, 'f': 0.2285714255469388}},\n",
       "       {'rouge-1': {'r': 0.40350877192982454, 'p': 0.4339622641509434, 'f': 0.4181818131884298}, 'rouge-2': {'r': 0.16176470588235295, 'p': 0.1506849315068493, 'f': 0.1560283638006138}, 'rouge-l': {'r': 0.40350877192982454, 'p': 0.4339622641509434, 'f': 0.4181818131884298}},\n",
       "       {'rouge-1': {'r': 0.0, 'p': 0.0, 'f': 0.0}, 'rouge-2': {'r': 0.0, 'p': 0.0, 'f': 0.0}, 'rouge-l': {'r': 0.0, 'p': 0.0, 'f': 0.0}},\n",
       "       {'rouge-1': {'r': 0.0, 'p': 0.0, 'f': 0.0}, 'rouge-2': {'r': 0.0, 'p': 0.0, 'f': 0.0}, 'rouge-l': {'r': 0.0, 'p': 0.0, 'f': 0.0}},\n",
       "       {'rouge-1': {'r': 0.0, 'p': 0.0, 'f': 0.0}, 'rouge-2': {'r': 0.0, 'p': 0.0, 'f': 0.0}, 'rouge-l': {'r': 0.0, 'p': 0.0, 'f': 0.0}},\n",
       "       {'rouge-1': {'r': 0.0, 'p': 0.0, 'f': 0.0}, 'rouge-2': {'r': 0.0, 'p': 0.0, 'f': 0.0}, 'rouge-l': {'r': 0.0, 'p': 0.0, 'f': 0.0}},\n",
       "       {'rouge-1': {'r': 0.0, 'p': 0.0, 'f': 0.0}, 'rouge-2': {'r': 0.0, 'p': 0.0, 'f': 0.0}, 'rouge-l': {'r': 0.0, 'p': 0.0, 'f': 0.0}},\n",
       "       {'rouge-1': {'r': 0.38202247191011235, 'p': 0.576271186440678, 'f': 0.4594594546649014}, 'rouge-2': {'r': 0.18421052631578946, 'p': 0.2916666666666667, 'f': 0.2258064468678461}, 'rouge-l': {'r': 0.34831460674157305, 'p': 0.5254237288135594, 'f': 0.4189189141243609}},\n",
       "       {'rouge-1': {'r': 0.16853932584269662, 'p': 0.7142857142857143, 'f': 0.2727272696380165}, 'rouge-2': {'r': 0.05263157894736842, 'p': 0.3, 'f': 0.08955223626642911}, 'rouge-l': {'r': 0.14606741573033707, 'p': 0.6190476190476191, 'f': 0.23636363327438017}},\n",
       "       {'rouge-1': {'r': 0.30337078651685395, 'p': 0.3698630136986301, 'f': 0.33333332838210644}, 'rouge-2': {'r': 0.13157894736842105, 'p': 0.16853932584269662, 'f': 0.1477832463073602}, 'rouge-l': {'r': 0.2696629213483146, 'p': 0.3287671232876712, 'f': 0.2962962913450694}},\n",
       "       {'rouge-1': {'r': 0.12359550561797752, 'p': 0.7857142857142857, 'f': 0.21359223066075975}, 'rouge-2': {'r': 0.06140350877192982, 'p': 0.5384615384615384, 'f': 0.1102362186347573}, 'rouge-l': {'r': 0.12359550561797752, 'p': 0.7857142857142857, 'f': 0.21359223066075975}},\n",
       "       {'rouge-1': {'r': 0.19101123595505617, 'p': 0.6538461538461539, 'f': 0.2956521704136106}, 'rouge-2': {'r': 0.017543859649122806, 'p': 0.06451612903225806, 'f': 0.027586203534839884}, 'rouge-l': {'r': 0.14606741573033707, 'p': 0.5, 'f': 0.22608695302230625}},\n",
       "       {'rouge-1': {'r': 0.36363636363636365, 'p': 0.425531914893617, 'f': 0.39215685777585546}, 'rouge-2': {'r': 0.136986301369863, 'p': 0.16666666666666666, 'f': 0.15037593489739404}, 'rouge-l': {'r': 0.32727272727272727, 'p': 0.3829787234042553, 'f': 0.3529411715013457}},\n",
       "       {'rouge-1': {'r': 0.4727272727272727, 'p': 0.4482758620689655, 'f': 0.46017698615396674}, 'rouge-2': {'r': 0.2602739726027397, 'p': 0.2375, 'f': 0.2483660080823616}, 'rouge-l': {'r': 0.45454545454545453, 'p': 0.43103448275862066, 'f': 0.44247787110971887}},\n",
       "       {'rouge-1': {'r': 0.41818181818181815, 'p': 0.5348837209302325, 'f': 0.46938775017700957}, 'rouge-2': {'r': 0.1917808219178082, 'p': 0.24561403508771928, 'f': 0.21538461046035515}, 'rouge-l': {'r': 0.41818181818181815, 'p': 0.5348837209302325, 'f': 0.46938775017700957}},\n",
       "       {'rouge-1': {'r': 0.3090909090909091, 'p': 0.3469387755102041, 'f': 0.326923071939719}, 'rouge-2': {'r': 0.1232876712328767, 'p': 0.140625, 'f': 0.13138685633544694}, 'rouge-l': {'r': 0.2909090909090909, 'p': 0.32653061224489793, 'f': 0.3076923027089497}},\n",
       "       {'rouge-1': {'r': 0.41818181818181815, 'p': 0.2839506172839506, 'f': 0.33823528930038926}, 'rouge-2': {'r': 0.1917808219178082, 'p': 0.12173913043478261, 'f': 0.14893616546231342}, 'rouge-l': {'r': 0.4, 'p': 0.2716049382716049, 'f': 0.32352940694744814}},\n",
       "       {'rouge-1': {'r': 0.43137254901960786, 'p': 0.5238095238095238, 'f': 0.47311827461671874}, 'rouge-2': {'r': 0.22033898305084745, 'p': 0.2653061224489796, 'f': 0.2407407357836078}, 'rouge-l': {'r': 0.4117647058823529, 'p': 0.5, 'f': 0.4516128982726327}},\n",
       "       {'rouge-1': {'r': 0.2549019607843137, 'p': 0.4482758620689655, 'f': 0.324999995378125}, 'rouge-2': {'r': 0.1016949152542373, 'p': 0.1875, 'f': 0.13186812730829625}, 'rouge-l': {'r': 0.2549019607843137, 'p': 0.4482758620689655, 'f': 0.324999995378125}},\n",
       "       {'rouge-1': {'r': 0.17647058823529413, 'p': 0.2727272727272727, 'f': 0.2142857095153062}, 'rouge-2': {'r': 0.03389830508474576, 'p': 0.05263157894736842, 'f': 0.0412371086364125}, 'rouge-l': {'r': 0.13725490196078433, 'p': 0.21212121212121213, 'f': 0.16666666189625867}},\n",
       "       {'rouge-1': {'r': 0.09803921568627451, 'p': 0.38461538461538464, 'f': 0.1562499967626954}, 'rouge-2': {'r': 0.01694915254237288, 'p': 0.07692307692307693, 'f': 0.027777774818673155}, 'rouge-l': {'r': 0.0784313725490196, 'p': 0.3076923076923077, 'f': 0.1249999967626954}},\n",
       "       {'rouge-1': {'r': 0.09803921568627451, 'p': 0.14705882352941177, 'f': 0.1176470540235296}, 'rouge-2': {'r': 0.01694915254237288, 'p': 0.023255813953488372, 'f': 0.01960783826028572}, 'rouge-l': {'r': 0.09803921568627451, 'p': 0.14705882352941177, 'f': 0.1176470540235296}},\n",
       "       {'rouge-1': {'r': 0.39361702127659576, 'p': 0.5211267605633803, 'f': 0.4484848435820019}, 'rouge-2': {'r': 0.19166666666666668, 'p': 0.25842696629213485, 'f': 0.2200956888899065}, 'rouge-l': {'r': 0.3723404255319149, 'p': 0.49295774647887325, 'f': 0.42424241933957757}},\n",
       "       {'rouge-1': {'r': 0.30851063829787234, 'p': 0.5272727272727272, 'f': 0.38926174030899513}, 'rouge-2': {'r': 0.10833333333333334, 'p': 0.2, 'f': 0.1405405359824691}, 'rouge-l': {'r': 0.26595744680851063, 'p': 0.45454545454545453, 'f': 0.33557046514120986}},\n",
       "       {'rouge-1': {'r': 0.43617021276595747, 'p': 0.6307692307692307, 'f': 0.5157232656065821}, 'rouge-2': {'r': 0.2, 'p': 0.2823529411764706, 'f': 0.23414633660916132}, 'rouge-l': {'r': 0.3829787234042553, 'p': 0.5538461538461539, 'f': 0.4528301838455758}},\n",
       "       {'rouge-1': {'r': 0.30851063829787234, 'p': 0.5178571428571429, 'f': 0.3866666619875556}, 'rouge-2': {'r': 0.11666666666666667, 'p': 0.18666666666666668, 'f': 0.14358973885601592}, 'rouge-l': {'r': 0.23404255319148937, 'p': 0.39285714285714285, 'f': 0.2933333286542223}},\n",
       "       {'rouge-1': {'r': 0.2872340425531915, 'p': 0.5869565217391305, 'f': 0.3857142813020409}, 'rouge-2': {'r': 0.10833333333333334, 'p': 0.24528301886792453, 'f': 0.1502890130909821}, 'rouge-l': {'r': 0.2553191489361702, 'p': 0.5217391304347826, 'f': 0.3428571384448979}},\n",
       "       {'rouge-1': {'r': 0.5238095238095238, 'p': 0.5238095238095238, 'f': 0.5238095188095239}, 'rouge-2': {'r': 0.3958333333333333, 'p': 0.3584905660377358, 'f': 0.37623761877462997}, 'rouge-l': {'r': 0.47619047619047616, 'p': 0.47619047619047616, 'f': 0.4761904711904762}},\n",
       "       {'rouge-1': {'r': 0.40476190476190477, 'p': 0.4857142857142857, 'f': 0.44155843659976396}, 'rouge-2': {'r': 0.2708333333333333, 'p': 0.325, 'f': 0.2954545404958678}, 'rouge-l': {'r': 0.40476190476190477, 'p': 0.4857142857142857, 'f': 0.44155843659976396}},\n",
       "       {'rouge-1': {'r': 0.38095238095238093, 'p': 0.5, 'f': 0.43243242752373995}, 'rouge-2': {'r': 0.2916666666666667, 'p': 0.3333333333333333, 'f': 0.31111110613333337}, 'rouge-l': {'r': 0.35714285714285715, 'p': 0.46875, 'f': 0.405405400496713}},\n",
       "       {'rouge-1': {'r': 0.7619047619047619, 'p': 0.5079365079365079, 'f': 0.6095238047238095}, 'rouge-2': {'r': 0.5208333333333334, 'p': 0.2976190476190476, 'f': 0.37878787415977966}, 'rouge-l': {'r': 0.7380952380952381, 'p': 0.49206349206349204, 'f': 0.5904761856761905}},\n",
       "       {'rouge-1': {'r': 0.5952380952380952, 'p': 0.5319148936170213, 'f': 0.5617977478247695}, 'rouge-2': {'r': 0.4166666666666667, 'p': 0.3076923076923077, 'f': 0.3539822959981205}, 'rouge-l': {'r': 0.5476190476190477, 'p': 0.48936170212765956, 'f': 0.5168539276000507}},\n",
       "       {'rouge-1': {'r': 0.6071428571428571, 'p': 0.576271186440678, 'f': 0.5913043428294897}, 'rouge-2': {'r': 0.4142857142857143, 'p': 0.43283582089552236, 'f': 0.4233576592359743}, 'rouge-l': {'r': 0.5714285714285714, 'p': 0.5423728813559322, 'f': 0.5565217341338374}},\n",
       "       {'rouge-1': {'r': 0.4107142857142857, 'p': 0.5476190476190477, 'f': 0.4693877502040817}, 'rouge-2': {'r': 0.2, 'p': 0.3111111111111111, 'f': 0.2434782561058602}, 'rouge-l': {'r': 0.39285714285714285, 'p': 0.5238095238095238, 'f': 0.44897958693877554}},\n",
       "       {'rouge-1': {'r': 0.23214285714285715, 'p': 0.48148148148148145, 'f': 0.3132530076585862}, 'rouge-2': {'r': 0.1, 'p': 0.2692307692307692, 'f': 0.14583332938368065}, 'rouge-l': {'r': 0.21428571428571427, 'p': 0.4444444444444444, 'f': 0.2891566221164175}},\n",
       "       {'rouge-1': {'r': 0.32142857142857145, 'p': 0.34615384615384615, 'f': 0.3333333283401921}, 'rouge-2': {'r': 0.1, 'p': 0.1, 'f': 0.09999999500000027}, 'rouge-l': {'r': 0.32142857142857145, 'p': 0.34615384615384615, 'f': 0.3333333283401921}},\n",
       "       {'rouge-1': {'r': 0.2857142857142857, 'p': 0.41025641025641024, 'f': 0.33684210042326873}, 'rouge-2': {'r': 0.12857142857142856, 'p': 0.2, 'f': 0.15652173436672984}, 'rouge-l': {'r': 0.2857142857142857, 'p': 0.41025641025641024, 'f': 0.33684210042326873}},\n",
       "       {'rouge-1': {'r': 0.379746835443038, 'p': 0.6666666666666666, 'f': 0.48387096311784605}, 'rouge-2': {'r': 0.24489795918367346, 'p': 0.42105263157894735, 'f': 0.30967741470468263}, 'rouge-l': {'r': 0.34177215189873417, 'p': 0.6, 'f': 0.4354838663436525}},\n",
       "       {'rouge-1': {'r': 0.35443037974683544, 'p': 0.6511627906976745, 'f': 0.45901638887798996}, 'rouge-2': {'r': 0.23469387755102042, 'p': 0.42592592592592593, 'f': 0.3026315743663436}, 'rouge-l': {'r': 0.3291139240506329, 'p': 0.6046511627906976, 'f': 0.42622950363208817}},\n",
       "       {'rouge-1': {'r': 0.27848101265822783, 'p': 0.38596491228070173, 'f': 0.323529406895545}, 'rouge-2': {'r': 0.14285714285714285, 'p': 0.20588235294117646, 'f': 0.16867469395848467}, 'rouge-l': {'r': 0.26582278481012656, 'p': 0.3684210526315789, 'f': 0.30882352454260387}},\n",
       "       {'rouge-1': {'r': 0.31645569620253167, 'p': 0.5681818181818182, 'f': 0.406504060445502}, 'rouge-2': {'r': 0.22448979591836735, 'p': 0.4, 'f': 0.2875816947413389}, 'rouge-l': {'r': 0.31645569620253167, 'p': 0.5681818181818182, 'f': 0.406504060445502}},\n",
       "       {'rouge-1': {'r': 0.22784810126582278, 'p': 0.6, 'f': 0.330275225368235}, 'rouge-2': {'r': 0.1326530612244898, 'p': 0.3939393939393939, 'f': 0.198473278673737}, 'rouge-l': {'r': 0.22784810126582278, 'p': 0.6, 'f': 0.330275225368235}},\n",
       "       {'rouge-1': {'r': 0.14772727272727273, 'p': 0.5909090909090909, 'f': 0.23636363316363643}, 'rouge-2': {'r': 0.059322033898305086, 'p': 0.30434782608695654, 'f': 0.09929077741159908}, 'rouge-l': {'r': 0.14772727272727273, 'p': 0.5909090909090909, 'f': 0.23636363316363643}},\n",
       "       {'rouge-1': {'r': 0.18181818181818182, 'p': 0.5714285714285714, 'f': 0.27586206530321045}, 'rouge-2': {'r': 0.0847457627118644, 'p': 0.30303030303030304, 'f': 0.13245032771018825}, 'rouge-l': {'r': 0.1590909090909091, 'p': 0.5, 'f': 0.24137930668252086}},\n",
       "       {'rouge-1': {'r': 0.4318181818181818, 'p': 0.6229508196721312, 'f': 0.5100671092581416}, 'rouge-2': {'r': 0.2542372881355932, 'p': 0.36585365853658536, 'f': 0.29999999516200004}, 'rouge-l': {'r': 0.3977272727272727, 'p': 0.5737704918032787, 'f': 0.4697986528823026}},\n",
       "       {'rouge-1': {'r': 0.11363636363636363, 'p': 0.5263157894736842, 'f': 0.1869158849296882}, 'rouge-2': {'r': 0.0423728813559322, 'p': 0.2777777777777778, 'f': 0.07352940946799315}, 'rouge-l': {'r': 0.10227272727272728, 'p': 0.47368421052631576, 'f': 0.16822429614464152}},\n",
       "       {'rouge-1': {'r': 0.32954545454545453, 'p': 0.42028985507246375, 'f': 0.36942674666558484}, 'rouge-2': {'r': 0.1271186440677966, 'p': 0.18072289156626506, 'f': 0.14925372649488888}, 'rouge-l': {'r': 0.32954545454545453, 'p': 0.42028985507246375, 'f': 0.36942674666558484}},\n",
       "       {'rouge-1': {'r': 0.35384615384615387, 'p': 0.6571428571428571, 'f': 0.45999999545000014}, 'rouge-2': {'r': 0.24719101123595505, 'p': 0.4489795918367347, 'f': 0.3188405751302248}, 'rouge-l': {'r': 0.3384615384615385, 'p': 0.6285714285714286, 'f': 0.43999999545000007}},\n",
       "       {'rouge-1': {'r': 0.16923076923076924, 'p': 0.6875, 'f': 0.2716049351013565}, 'rouge-2': {'r': 0.0449438202247191, 'p': 0.23529411764705882, 'f': 0.07547169542007842}, 'rouge-l': {'r': 0.15384615384615385, 'p': 0.625, 'f': 0.24691357707666517}},\n",
       "       {'rouge-1': {'r': 0.3384615384615385, 'p': 0.55, 'f': 0.4190476143310658}, 'rouge-2': {'r': 0.1797752808988764, 'p': 0.3076923076923077, 'f': 0.22695034995422775}, 'rouge-l': {'r': 0.3384615384615385, 'p': 0.55, 'f': 0.4190476143310658}},\n",
       "       {'rouge-1': {'r': 0.2, 'p': 0.65, 'f': 0.30588234934256053}, 'rouge-2': {'r': 0.06741573033707865, 'p': 0.3, 'f': 0.11009174012288536}, 'rouge-l': {'r': 0.16923076923076924, 'p': 0.55, 'f': 0.2588235258131488}},\n",
       "       {'rouge-1': {'r': 0.16923076923076924, 'p': 0.6875, 'f': 0.2716049351013565}, 'rouge-2': {'r': 0.056179775280898875, 'p': 0.29411764705882354, 'f': 0.09433961994838029}, 'rouge-l': {'r': 0.15384615384615385, 'p': 0.625, 'f': 0.24691357707666517}},\n",
       "       {'rouge-1': {'r': 0.38461538461538464, 'p': 0.3472222222222222, 'f': 0.36496349866268846}, 'rouge-2': {'r': 0.20512820512820512, 'p': 0.1797752808988764, 'f': 0.19161676148875914}, 'rouge-l': {'r': 0.35384615384615387, 'p': 0.3194444444444444, 'f': 0.3357664183707177}},\n",
       "       {'rouge-1': {'r': 0.3076923076923077, 'p': 0.3333333333333333, 'f': 0.3199999950080001}, 'rouge-2': {'r': 0.11538461538461539, 'p': 0.1232876712328767, 'f': 0.11920529301872745}, 'rouge-l': {'r': 0.27692307692307694, 'p': 0.3, 'f': 0.2879999950080001}},\n",
       "       {'rouge-1': {'r': 0.4, 'p': 0.32098765432098764, 'f': 0.3561643786216927}, 'rouge-2': {'r': 0.20512820512820512, 'p': 0.15841584158415842, 'f': 0.178770944803221}, 'rouge-l': {'r': 0.38461538461538464, 'p': 0.30864197530864196, 'f': 0.34246574848470634}},\n",
       "       {'rouge-1': {'r': 0.2, 'p': 0.22807017543859648, 'f': 0.2131147491198604}, 'rouge-2': {'r': 0.05128205128205128, 'p': 0.056338028169014086, 'f': 0.05369127017882125}, 'rouge-l': {'r': 0.15384615384615385, 'p': 0.17543859649122806, 'f': 0.16393442125100796}},\n",
       "       {'rouge-1': {'r': 0.3384615384615385, 'p': 0.3384615384615385, 'f': 0.33846153346153857}, 'rouge-2': {'r': 0.11538461538461539, 'p': 0.1111111111111111, 'f': 0.11320754217159153}, 'rouge-l': {'r': 0.27692307692307694, 'p': 0.27692307692307694, 'f': 0.276923071923077}},\n",
       "       {'rouge-1': {'r': 0.36363636363636365, 'p': 0.36363636363636365, 'f': 0.3636363586363637}, 'rouge-2': {'r': 0.21621621621621623, 'p': 0.20512820512820512, 'f': 0.2105263107929364}, 'rouge-l': {'r': 0.36363636363636365, 'p': 0.36363636363636365, 'f': 0.3636363586363637}},\n",
       "       {'rouge-1': {'r': 0.5151515151515151, 'p': 0.4146341463414634, 'f': 0.4594594545178963}, 'rouge-2': {'r': 0.2702702702702703, 'p': 0.2, 'f': 0.22988505258290406}, 'rouge-l': {'r': 0.48484848484848486, 'p': 0.3902439024390244, 'f': 0.43243242749086924}},\n",
       "       {'rouge-1': {'r': 0.36363636363636365, 'p': 0.3157894736842105, 'f': 0.33802816403888125}, 'rouge-2': {'r': 0.13513513513513514, 'p': 0.11627906976744186, 'f': 0.1249999950281252}, 'rouge-l': {'r': 0.3333333333333333, 'p': 0.2894736842105263, 'f': 0.3098591499543742}},\n",
       "       {'rouge-1': {'r': 0.12121212121212122, 'p': 0.26666666666666666, 'f': 0.16666666236979177}, 'rouge-2': {'r': 0.02702702702702703, 'p': 0.07142857142857142, 'f': 0.03921568229142678}, 'rouge-l': {'r': 0.09090909090909091, 'p': 0.2, 'f': 0.12499999570312517}},\n",
       "       {'rouge-1': {'r': 0.45454545454545453, 'p': 0.32608695652173914, 'f': 0.379746830578433}, 'rouge-2': {'r': 0.24324324324324326, 'p': 0.16363636363636364, 'f': 0.19565216910444247}, 'rouge-l': {'r': 0.45454545454545453, 'p': 0.32608695652173914, 'f': 0.379746830578433}},\n",
       "       {'rouge-1': {'r': 0.45, 'p': 0.2857142857142857, 'f': 0.3495145583561127}, 'rouge-2': {'r': 0.13043478260869565, 'p': 0.07142857142857142, 'f': 0.09230768773491146}, 'rouge-l': {'r': 0.25, 'p': 0.15873015873015872, 'f': 0.19417475253087013}},\n",
       "       {'rouge-1': {'r': 0.5, 'p': 0.36363636363636365, 'f': 0.42105262670360116}, 'rouge-2': {'r': 0.21739130434782608, 'p': 0.136986301369863, 'f': 0.1680672221481535}, 'rouge-l': {'r': 0.425, 'p': 0.3090909090909091, 'f': 0.35789473196675897}},\n",
       "       {'rouge-1': {'r': 0.15, 'p': 0.35294117647058826, 'f': 0.21052631160357038}, 'rouge-2': {'r': 0.0, 'p': 0.0, 'f': 0.0}, 'rouge-l': {'r': 0.1, 'p': 0.23529411764705882, 'f': 0.1403508730070792}},\n",
       "       {'rouge-1': {'r': 0.325, 'p': 0.26, 'f': 0.2888888839506174}, 'rouge-2': {'r': 0.08695652173913043, 'p': 0.07272727272727272, 'f': 0.07920791583178151}, 'rouge-l': {'r': 0.275, 'p': 0.22, 'f': 0.24444443950617298}},\n",
       "       {'rouge-1': {'r': 0.125, 'p': 0.3333333333333333, 'f': 0.18181817785123974}, 'rouge-2': {'r': 0.06521739130434782, 'p': 0.2, 'f': 0.0983606520290246}, 'rouge-l': {'r': 0.125, 'p': 0.3333333333333333, 'f': 0.18181817785123974}},\n",
       "       {'rouge-1': {'r': 0.48484848484848486, 'p': 0.48484848484848486, 'f': 0.4848484798484849}, 'rouge-2': {'r': 0.2571428571428571, 'p': 0.23076923076923078, 'f': 0.24324323825785255}, 'rouge-l': {'r': 0.42424242424242425, 'p': 0.42424242424242425, 'f': 0.42424241924242434}},\n",
       "       {'rouge-1': {'r': 0.3333333333333333, 'p': 0.5238095238095238, 'f': 0.40740740265432096}, 'rouge-2': {'r': 0.14285714285714285, 'p': 0.22727272727272727, 'f': 0.17543859175130824}, 'rouge-l': {'r': 0.2727272727272727, 'p': 0.42857142857142855, 'f': 0.3333333285802469}},\n",
       "       {'rouge-1': {'r': 0.3333333333333333, 'p': 0.5238095238095238, 'f': 0.40740740265432096}, 'rouge-2': {'r': 0.14285714285714285, 'p': 0.23809523809523808, 'f': 0.1785714238839287}, 'rouge-l': {'r': 0.2727272727272727, 'p': 0.42857142857142855, 'f': 0.3333333285802469}},\n",
       "       {'rouge-1': {'r': 0.24242424242424243, 'p': 0.42105263157894735, 'f': 0.3076923030547338}, 'rouge-2': {'r': 0.11428571428571428, 'p': 0.18181818181818182, 'f': 0.14035087245306266}, 'rouge-l': {'r': 0.24242424242424243, 'p': 0.42105263157894735, 'f': 0.3076923030547338}},\n",
       "       {'rouge-1': {'r': 0.12121212121212122, 'p': 0.36363636363636365, 'f': 0.1818181780681819}, 'rouge-2': {'r': 0.05714285714285714, 'p': 0.18181818181818182, 'f': 0.08695651810018919}, 'rouge-l': {'r': 0.12121212121212122, 'p': 0.36363636363636365, 'f': 0.1818181780681819}},\n",
       "       {'rouge-1': {'r': 0.2962962962962963, 'p': 0.1702127659574468, 'f': 0.21621621158144638}, 'rouge-2': {'r': 0.14705882352941177, 'p': 0.07142857142857142, 'f': 0.09615384175295877}, 'rouge-l': {'r': 0.2962962962962963, 'p': 0.1702127659574468, 'f': 0.21621621158144638}},\n",
       "       {'rouge-1': {'r': 0.25925925925925924, 'p': 0.30434782608695654, 'f': 0.27999999503200007}, 'rouge-2': {'r': 0.11764705882352941, 'p': 0.15384615384615385, 'f': 0.1333333284222224}, 'rouge-l': {'r': 0.25925925925925924, 'p': 0.30434782608695654, 'f': 0.27999999503200007}},\n",
       "       {'rouge-1': {'r': 0.2222222222222222, 'p': 0.24, 'f': 0.2307692257766273}, 'rouge-2': {'r': 0.14705882352941177, 'p': 0.18518518518518517, 'f': 0.16393442129535088}, 'rouge-l': {'r': 0.2222222222222222, 'p': 0.24, 'f': 0.2307692257766273}},\n",
       "       {'rouge-1': {'r': 0.2222222222222222, 'p': 0.42857142857142855, 'f': 0.2926829223319453}, 'rouge-2': {'r': 0.11764705882352941, 'p': 0.3076923076923077, 'f': 0.17021276195563612}, 'rouge-l': {'r': 0.2222222222222222, 'p': 0.42857142857142855, 'f': 0.2926829223319453}},\n",
       "       {'rouge-1': {'r': 0.37037037037037035, 'p': 0.30303030303030304, 'f': 0.33333332838333335}, 'rouge-2': {'r': 0.20588235294117646, 'p': 0.16666666666666666, 'f': 0.18421052137119123}, 'rouge-l': {'r': 0.37037037037037035, 'p': 0.30303030303030304, 'f': 0.33333332838333335}},\n",
       "       {'rouge-1': {'r': 0.4, 'p': 0.4444444444444444, 'f': 0.42105262659279785}, 'rouge-2': {'r': 0.1791044776119403, 'p': 0.20689655172413793, 'f': 0.19199999502592013}, 'rouge-l': {'r': 0.32, 'p': 0.35555555555555557, 'f': 0.33684210027700834}},\n",
       "       {'rouge-1': {'r': 0.24, 'p': 0.23076923076923078, 'f': 0.23529411264898129}, 'rouge-2': {'r': 0.04477611940298507, 'p': 0.037037037037037035, 'f': 0.04054053558528184}, 'rouge-l': {'r': 0.22, 'p': 0.21153846153846154, 'f': 0.21568626951172637}},\n",
       "       {'rouge-1': {'r': 0.32, 'p': 0.4444444444444444, 'f': 0.37209301838831804}, 'rouge-2': {'r': 0.14925373134328357, 'p': 0.2127659574468085, 'f': 0.17543859164512174}, 'rouge-l': {'r': 0.3, 'p': 0.4166666666666667, 'f': 0.3488372044348297}},\n",
       "       {'rouge-1': {'r': 0.2, 'p': 0.6666666666666666, 'f': 0.3076923041420118}, 'rouge-2': {'r': 0.16417910447761194, 'p': 0.5789473684210527, 'f': 0.25581395004597085}, 'rouge-l': {'r': 0.2, 'p': 0.6666666666666666, 'f': 0.3076923041420118}},\n",
       "       {'rouge-1': {'r': 0.06, 'p': 0.21428571428571427, 'f': 0.09374999658203137}, 'rouge-2': {'r': 0.029850746268656716, 'p': 0.15384615384615385, 'f': 0.049999997278125145}, 'rouge-l': {'r': 0.06, 'p': 0.21428571428571427, 'f': 0.09374999658203137}},\n",
       "       {'rouge-1': {'r': 0.42, 'p': 0.5384615384615384, 'f': 0.47191010743592976}, 'rouge-2': {'r': 0.2833333333333333, 'p': 0.3148148148148148, 'f': 0.2982456090489382}, 'rouge-l': {'r': 0.38, 'p': 0.48717948717948717, 'f': 0.42696628721121077}},\n",
       "       {'rouge-1': {'r': 0.28, 'p': 0.3181818181818182, 'f': 0.2978723354459032}, 'rouge-2': {'r': 0.15, 'p': 0.16981132075471697, 'f': 0.15929203041741732}, 'rouge-l': {'r': 0.26, 'p': 0.29545454545454547, 'f': 0.27659573970122237}},\n",
       "       {'rouge-1': {'r': 0.34, 'p': 0.4722222222222222, 'f': 0.39534883234180646}, 'rouge-2': {'r': 0.16666666666666666, 'p': 0.2222222222222222, 'f': 0.19047618557823143}, 'rouge-l': {'r': 0.32, 'p': 0.4444444444444444, 'f': 0.37209301838831804}},\n",
       "       {'rouge-1': {'r': 0.36, 'p': 0.5454545454545454, 'f': 0.43373493496879084}, 'rouge-2': {'r': 0.2, 'p': 0.2926829268292683, 'f': 0.23762375755318116}, 'rouge-l': {'r': 0.36, 'p': 0.5454545454545454, 'f': 0.43373493496879084}},\n",
       "       {'rouge-1': {'r': 0.44, 'p': 0.44, 'f': 0.43999999500000003}, 'rouge-2': {'r': 0.18333333333333332, 'p': 0.18032786885245902, 'f': 0.18181817681852347}, 'rouge-l': {'r': 0.36, 'p': 0.36, 'f': 0.359999995}},\n",
       "       {'rouge-1': {'r': 0.3584905660377358, 'p': 0.6129032258064516, 'f': 0.4523809477239229}, 'rouge-2': {'r': 0.17543859649122806, 'p': 0.2857142857142857, 'f': 0.217391299633743}, 'rouge-l': {'r': 0.33962264150943394, 'p': 0.5806451612903226, 'f': 0.4285714239143991}},\n",
       "       {'rouge-1': {'r': 0.41509433962264153, 'p': 0.4074074074074074, 'f': 0.4112149482714648}, 'rouge-2': {'r': 0.24561403508771928, 'p': 0.2153846153846154, 'f': 0.22950819174281117}, 'rouge-l': {'r': 0.39622641509433965, 'p': 0.3888888888888889, 'f': 0.3925233594864181}},\n",
       "       {'rouge-1': {'r': 0.41509433962264153, 'p': 0.6285714285714286, 'f': 0.4999999952091944}, 'rouge-2': {'r': 0.24561403508771928, 'p': 0.3783783783783784, 'f': 0.2978723356518787}, 'rouge-l': {'r': 0.39622641509433965, 'p': 0.6, 'f': 0.47727272248192154}},\n",
       "       {'rouge-1': {'r': 0.37735849056603776, 'p': 0.4166666666666667, 'f': 0.39603959897264984}, 'rouge-2': {'r': 0.21052631578947367, 'p': 0.21818181818181817, 'f': 0.21428570928730878}, 'rouge-l': {'r': 0.37735849056603776, 'p': 0.4166666666666667, 'f': 0.39603959897264984}},\n",
       "       {'rouge-1': {'r': 0.1509433962264151, 'p': 0.42105263157894735, 'f': 0.2222222183371914}, 'rouge-2': {'r': 0.05263157894736842, 'p': 0.16666666666666666, 'f': 0.07999999635200017}, 'rouge-l': {'r': 0.1509433962264151, 'p': 0.42105263157894735, 'f': 0.2222222183371914}},\n",
       "       {'rouge-1': {'r': 0.42105263157894735, 'p': 0.25806451612903225, 'f': 0.319999995288}, 'rouge-2': {'r': 0.3, 'p': 0.18181818181818182, 'f': 0.22641508964044152}, 'rouge-l': {'r': 0.42105263157894735, 'p': 0.25806451612903225, 'f': 0.319999995288}},\n",
       "       {'rouge-1': {'r': 0.5263157894736842, 'p': 0.38461538461538464, 'f': 0.4444444395654321}, 'rouge-2': {'r': 0.35, 'p': 0.2413793103448276, 'f': 0.28571428088296547}, 'rouge-l': {'r': 0.47368421052631576, 'p': 0.34615384615384615, 'f': 0.39999999512098766}},\n",
       "       {'rouge-1': {'r': 0.3684210526315789, 'p': 0.18421052631578946, 'f': 0.24561403064327492}, 'rouge-2': {'r': 0.15, 'p': 0.06666666666666667, 'f': 0.09230768804733748}, 'rouge-l': {'r': 0.3157894736842105, 'p': 0.15789473684210525, 'f': 0.21052631134502933}},\n",
       "       {'rouge-1': {'r': 0.3157894736842105, 'p': 0.5, 'f': 0.3870967694484912}, 'rouge-2': {'r': 0.15, 'p': 0.2727272727272727, 'f': 0.19354838251821027}, 'rouge-l': {'r': 0.2631578947368421, 'p': 0.4166666666666667, 'f': 0.32258064041623313}},\n",
       "       {'rouge-1': {'r': 0.5263157894736842, 'p': 0.2127659574468085, 'f': 0.3030302989302112}, 'rouge-2': {'r': 0.35, 'p': 0.1044776119402985, 'f': 0.16091953668912679}, 'rouge-l': {'r': 0.5263157894736842, 'p': 0.2127659574468085, 'f': 0.3030302989302112}},\n",
       "       {'rouge-1': {'r': 0.10638297872340426, 'p': 0.35714285714285715, 'f': 0.16393442269282457}, 'rouge-2': {'r': 0.015625, 'p': 0.07692307692307693, 'f': 0.025974023167482173}, 'rouge-l': {'r': 0.10638297872340426, 'p': 0.35714285714285715, 'f': 0.16393442269282457}},\n",
       "       {'rouge-1': {'r': 0.5106382978723404, 'p': 0.7741935483870968, 'f': 0.6153846105950033}, 'rouge-2': {'r': 0.3125, 'p': 0.5714285714285714, 'f': 0.40404039946944187}, 'rouge-l': {'r': 0.5106382978723404, 'p': 0.7741935483870968, 'f': 0.6153846105950033}},\n",
       "       {'rouge-1': {'r': 0.1702127659574468, 'p': 0.8, 'f': 0.280701751492767}, 'rouge-2': {'r': 0.0625, 'p': 0.4444444444444444, 'f': 0.10958903893413402}, 'rouge-l': {'r': 0.1702127659574468, 'p': 0.8, 'f': 0.280701751492767}},\n",
       "       {'rouge-1': {'r': 0.1276595744680851, 'p': 0.42857142857142855, 'f': 0.19672130793872616}, 'rouge-2': {'r': 0.0, 'p': 0.0, 'f': 0.0}, 'rouge-l': {'r': 0.10638297872340426, 'p': 0.35714285714285715, 'f': 0.16393442269282457}},\n",
       "       {'rouge-1': {'r': 0.0851063829787234, 'p': 0.4, 'f': 0.1403508742997846}, 'rouge-2': {'r': 0.03125, 'p': 0.2222222222222222, 'f': 0.054794518386188866}, 'rouge-l': {'r': 0.0851063829787234, 'p': 0.4, 'f': 0.1403508742997846}},\n",
       "       {'rouge-1': {'r': 0.42105263157894735, 'p': 0.5333333333333333, 'f': 0.4705882303633218}, 'rouge-2': {'r': 0.25, 'p': 0.29411764705882354, 'f': 0.270270265303141}, 'rouge-l': {'r': 0.42105263157894735, 'p': 0.5333333333333333, 'f': 0.4705882303633218}},\n",
       "       {'rouge-1': {'r': 0.3684210526315789, 'p': 0.5833333333333334, 'f': 0.45161289848074926}, 'rouge-2': {'r': 0.2, 'p': 0.3076923076923077, 'f': 0.24242423764921955}, 'rouge-l': {'r': 0.3684210526315789, 'p': 0.5833333333333334, 'f': 0.45161289848074926}},\n",
       "       {'rouge-1': {'r': 0.2894736842105263, 'p': 0.5, 'f': 0.36666666202222226}, 'rouge-2': {'r': 0.175, 'p': 0.2916666666666667, 'f': 0.21874999531250008}, 'rouge-l': {'r': 0.2631578947368421, 'p': 0.45454545454545453, 'f': 0.33333332868888893}},\n",
       "       {'rouge-1': {'r': 0.15789473684210525, 'p': 0.42857142857142855, 'f': 0.23076922683431958}, 'rouge-2': {'r': 0.075, 'p': 0.23076923076923078, 'f': 0.11320754346742624}, 'rouge-l': {'r': 0.13157894736842105, 'p': 0.35714285714285715, 'f': 0.19230768837278112}},\n",
       "       {'rouge-1': {'r': 0.3157894736842105, 'p': 0.5714285714285714, 'f': 0.40677965643205977}, 'rouge-2': {'r': 0.2, 'p': 0.34782608695652173, 'f': 0.2539682493323256}, 'rouge-l': {'r': 0.2894736842105263, 'p': 0.5238095238095238, 'f': 0.37288135134731404}},\n",
       "       {'rouge-1': {'r': 0.896551724137931, 'p': 0.7027027027027027, 'f': 0.7878787829522499}, 'rouge-2': {'r': 0.8055555555555556, 'p': 0.6444444444444445, 'f': 0.7160493777777778}, 'rouge-l': {'r': 0.896551724137931, 'p': 0.7027027027027027, 'f': 0.7878787829522499}},\n",
       "       {'rouge-1': {'r': 0.6896551724137931, 'p': 0.6060606060606061, 'f': 0.6451612853433925}, 'rouge-2': {'r': 0.4166666666666667, 'p': 0.39473684210526316, 'f': 0.4054054004090578}, 'rouge-l': {'r': 0.6206896551724138, 'p': 0.5454545454545454, 'f': 0.5806451563111343}},\n",
       "       {'rouge-1': {'r': 0.4827586206896552, 'p': 0.42424242424242425, 'f': 0.45161289824661816}, 'rouge-2': {'r': 0.1388888888888889, 'p': 0.13157894736842105, 'f': 0.1351351301387876}, 'rouge-l': {'r': 0.4482758620689655, 'p': 0.3939393939393939, 'f': 0.4193548337304891}},\n",
       "       {'rouge-1': {'r': 0.5172413793103449, 'p': 0.7894736842105263, 'f': 0.6249999952170139}, 'rouge-2': {'r': 0.5833333333333334, 'p': 0.75, 'f': 0.656249995078125}, 'rouge-l': {'r': 0.5172413793103449, 'p': 0.7894736842105263, 'f': 0.6249999952170139}},\n",
       "       {'rouge-1': {'r': 0.13793103448275862, 'p': 0.07017543859649122, 'f': 0.09302325134396992}, 'rouge-2': {'r': 0.027777777777777776, 'p': 0.013513513513513514, 'f': 0.018181813778513464}, 'rouge-l': {'r': 0.13793103448275862, 'p': 0.07017543859649122, 'f': 0.09302325134396992}},\n",
       "       {'rouge-1': {'r': 0.37142857142857144, 'p': 0.5416666666666666, 'f': 0.4406779612754956}, 'rouge-2': {'r': 0.21686746987951808, 'p': 0.3103448275862069, 'f': 0.25531914409335554}, 'rouge-l': {'r': 0.37142857142857144, 'p': 0.5416666666666666, 'f': 0.4406779612754956}},\n",
       "       {'rouge-1': {'r': 0.44285714285714284, 'p': 0.484375, 'f': 0.4626865621742036}, 'rouge-2': {'r': 0.3253012048192771, 'p': 0.3, 'f': 0.3121387233318855}, 'rouge-l': {'r': 0.42857142857142855, 'p': 0.46875, 'f': 0.4477611890398752}},\n",
       "       {'rouge-1': {'r': 0.37142857142857144, 'p': 0.6842105263157895, 'f': 0.4814814769204391}, 'rouge-2': {'r': 0.24096385542168675, 'p': 0.43478260869565216, 'f': 0.3100775147911784}, 'rouge-l': {'r': 0.32857142857142857, 'p': 0.6052631578947368, 'f': 0.4259259213648834}},\n",
       "       {'rouge-1': {'r': 0.3142857142857143, 'p': 0.43137254901960786, 'f': 0.36363635875964767}, 'rouge-2': {'r': 0.1686746987951807, 'p': 0.22580645161290322, 'f': 0.19310344338073732}, 'rouge-l': {'r': 0.3, 'p': 0.4117647058823529, 'f': 0.3471074331398129}},\n",
       "       {'rouge-1': {'r': 0.1, 'p': 0.4375, 'f': 0.16279069464575452}, 'rouge-2': {'r': 0.0, 'p': 0.0, 'f': 0.0}, 'rouge-l': {'r': 0.1, 'p': 0.4375, 'f': 0.16279069464575452}},\n",
       "       {'rouge-1': {'r': 0.5882352941176471, 'p': 0.5660377358490566, 'f': 0.5769230719249261}, 'rouge-2': {'r': 0.36666666666666664, 'p': 0.2972972972972973, 'f': 0.32835820400980176}, 'rouge-l': {'r': 0.5882352941176471, 'p': 0.5660377358490566, 'f': 0.5769230719249261}},\n",
       "       {'rouge-1': {'r': 0.45098039215686275, 'p': 0.38333333333333336, 'f': 0.4144144094472852}, 'rouge-2': {'r': 0.25, 'p': 0.18518518518518517, 'f': 0.21276595255771855}, 'rouge-l': {'r': 0.3333333333333333, 'p': 0.2833333333333333, 'f': 0.306306301339177}},\n",
       "       {'rouge-1': {'r': 0.3333333333333333, 'p': 0.53125, 'f': 0.4096385494788794}, 'rouge-2': {'r': 0.15, 'p': 0.2647058823529412, 'f': 0.1914893570846538}, 'rouge-l': {'r': 0.27450980392156865, 'p': 0.4375, 'f': 0.3373493928523734}},\n",
       "       {'rouge-1': {'r': 0.39215686274509803, 'p': 0.625, 'f': 0.4819277061053855}, 'rouge-2': {'r': 0.25, 'p': 0.35714285714285715, 'f': 0.2941176422145329}, 'rouge-l': {'r': 0.39215686274509803, 'p': 0.625, 'f': 0.4819277061053855}},\n",
       "       {'rouge-1': {'r': 0.35294117647058826, 'p': 0.5625, 'f': 0.4337349350210481}, 'rouge-2': {'r': 0.21666666666666667, 'p': 0.30952380952380953, 'f': 0.25490195594002313}, 'rouge-l': {'r': 0.35294117647058826, 'p': 0.5625, 'f': 0.4337349350210481}},\n",
       "       {'rouge-1': {'r': 0.13114754098360656, 'p': 0.47058823529411764, 'f': 0.2051282017192637}, 'rouge-2': {'r': 0.05555555555555555, 'p': 0.2, 'f': 0.08695651833648407}, 'rouge-l': {'r': 0.11475409836065574, 'p': 0.4117647058823529, 'f': 0.17948717607823805}},\n",
       "       {'rouge-1': {'r': 0.13114754098360656, 'p': 0.5, 'f': 0.2077922044999157}, 'rouge-2': {'r': 0.05555555555555555, 'p': 0.25, 'f': 0.09090908793388439}, 'rouge-l': {'r': 0.13114754098360656, 'p': 0.5, 'f': 0.2077922044999157}},\n",
       "       {'rouge-1': {'r': 0.09836065573770492, 'p': 0.375, 'f': 0.1558441525518638}, 'rouge-2': {'r': 0.027777777777777776, 'p': 0.1111111111111111, 'f': 0.044444441244444674}, 'rouge-l': {'r': 0.08196721311475409, 'p': 0.3125, 'f': 0.12987012657783784}},\n",
       "       {'rouge-1': {'r': 0.16393442622950818, 'p': 0.35714285714285715, 'f': 0.22471909681100874}, 'rouge-2': {'r': 0.09722222222222222, 'p': 0.21875, 'f': 0.13461538035502973}, 'rouge-l': {'r': 0.16393442622950818, 'p': 0.35714285714285715, 'f': 0.22471909681100874}},\n",
       "       {'rouge-1': {'r': 0.09836065573770492, 'p': 0.4, 'f': 0.15789473367382278}, 'rouge-2': {'r': 0.013888888888888888, 'p': 0.058823529411764705, 'f': 0.022471907021841105}, 'rouge-l': {'r': 0.08196721311475409, 'p': 0.3333333333333333, 'f': 0.13157894420013858}},\n",
       "       {'rouge-1': {'r': 0.8, 'p': 0.5970149253731343, 'f': 0.683760678866243}, 'rouge-2': {'r': 0.7611940298507462, 'p': 0.5425531914893617, 'f': 0.6335403678114271}, 'rouge-l': {'r': 0.8, 'p': 0.5970149253731343, 'f': 0.683760678866243}},\n",
       "       {'rouge-1': {'r': 0.48, 'p': 0.4444444444444444, 'f': 0.461538456545858}, 'rouge-2': {'r': 0.34328358208955223, 'p': 0.2987012987012987, 'f': 0.31944443946855716}, 'rouge-l': {'r': 0.48, 'p': 0.4444444444444444, 'f': 0.461538456545858}},\n",
       "       {'rouge-1': {'r': 0.28, 'p': 0.30434782608695654, 'f': 0.2916666616753473}, 'rouge-2': {'r': 0.19402985074626866, 'p': 0.23214285714285715, 'f': 0.21138210886112777}, 'rouge-l': {'r': 0.28, 'p': 0.30434782608695654, 'f': 0.2916666616753473}},\n",
       "       {'rouge-1': {'r': 0.12, 'p': 0.14634146341463414, 'f': 0.13186812691703917}, 'rouge-2': {'r': 0.029850746268656716, 'p': 0.043478260869565216, 'f': 0.035398225261180076}, 'rouge-l': {'r': 0.12, 'p': 0.14634146341463414, 'f': 0.13186812691703917}},\n",
       "       {'rouge-1': {'r': 0.14, 'p': 0.1320754716981132, 'f': 0.13592232510132926}, 'rouge-2': {'r': 0.04477611940298507, 'p': 0.043478260869565216, 'f': 0.04411764205990541}, 'rouge-l': {'r': 0.14, 'p': 0.1320754716981132, 'f': 0.13592232510132926}},\n",
       "       {'rouge-1': {'r': 0.5102040816326531, 'p': 0.28735632183908044, 'f': 0.3676470542138841}, 'rouge-2': {'r': 0.2033898305084746, 'p': 0.09917355371900827, 'f': 0.13333332892654337}, 'rouge-l': {'r': 0.46938775510204084, 'p': 0.26436781609195403, 'f': 0.33823528950800175}},\n",
       "       {'rouge-1': {'r': 0.16326530612244897, 'p': 0.6666666666666666, 'f': 0.2622950788067724}, 'rouge-2': {'r': 0.06779661016949153, 'p': 0.3333333333333333, 'f': 0.11267605352906178}, 'rouge-l': {'r': 0.10204081632653061, 'p': 0.4166666666666667, 'f': 0.16393442306906753}},\n",
       "       {'rouge-1': {'r': 0.32653061224489793, 'p': 0.47058823529411764, 'f': 0.3855421638380026}, 'rouge-2': {'r': 0.1016949152542373, 'p': 0.15789473684210525, 'f': 0.12371133544053584}, 'rouge-l': {'r': 0.2653061224489796, 'p': 0.38235294117647056, 'f': 0.3132530072114966}},\n",
       "       {'rouge-1': {'r': 0.3469387755102041, 'p': 0.4146341463414634, 'f': 0.377777772817284}, 'rouge-2': {'r': 0.15254237288135594, 'p': 0.19148936170212766, 'f': 0.16981131581879688}, 'rouge-l': {'r': 0.30612244897959184, 'p': 0.36585365853658536, 'f': 0.3333333283728396}},\n",
       "       {'rouge-1': {'r': 0.12244897959183673, 'p': 0.46153846153846156, 'f': 0.19354838378251824}, 'rouge-2': {'r': 0.05084745762711865, 'p': 0.25, 'f': 0.08450703944455476}, 'rouge-l': {'r': 0.12244897959183673, 'p': 0.46153846153846156, 'f': 0.19354838378251824}},\n",
       "       {'rouge-1': {'r': 0.26666666666666666, 'p': 0.0975609756097561, 'f': 0.14285713893494908}, 'rouge-2': {'r': 0.0, 'p': 0.0, 'f': 0.0}, 'rouge-l': {'r': 0.2, 'p': 0.07317073170731707, 'f': 0.1071428532206634}},\n",
       "       {'rouge-1': {'r': 0.7333333333333333, 'p': 0.7333333333333333, 'f': 0.7333333283333333}, 'rouge-2': {'r': 0.5714285714285714, 'p': 0.5714285714285714, 'f': 0.5714285664285715}, 'rouge-l': {'r': 0.7333333333333333, 'p': 0.7333333333333333, 'f': 0.7333333283333333}},\n",
       "       {'rouge-1': {'r': 0.3333333333333333, 'p': 0.21739130434782608, 'f': 0.2631578899584488}, 'rouge-2': {'r': 0.14285714285714285, 'p': 0.07692307692307693, 'f': 0.09999999545000023}, 'rouge-l': {'r': 0.26666666666666666, 'p': 0.17391304347826086, 'f': 0.21052631101108046}},\n",
       "       {'rouge-1': {'r': 0.3333333333333333, 'p': 0.2631578947368421, 'f': 0.2941176421280277}, 'rouge-2': {'r': 0.07142857142857142, 'p': 0.05, 'f': 0.05882352456747445}, 'rouge-l': {'r': 0.3333333333333333, 'p': 0.2631578947368421, 'f': 0.2941176421280277}},\n",
       "       {'rouge-1': {'r': 0.4, 'p': 0.14634146341463414, 'f': 0.21428571036352043}, 'rouge-2': {'r': 0.14285714285714285, 'p': 0.044444444444444446, 'f': 0.0677966065498422}, 'rouge-l': {'r': 0.3333333333333333, 'p': 0.12195121951219512, 'f': 0.17857142464923478}},\n",
       "       {'rouge-1': {'r': 0.4, 'p': 0.5172413793103449, 'f': 0.4511278146305614}, 'rouge-2': {'r': 0.16666666666666666, 'p': 0.24, 'f': 0.19672130663800066}, 'rouge-l': {'r': 0.38666666666666666, 'p': 0.5, 'f': 0.43609022064559894}},\n",
       "       {'rouge-1': {'r': 0.4533333333333333, 'p': 0.5964912280701754, 'f': 0.5151515102444904}, 'rouge-2': {'r': 0.2777777777777778, 'p': 0.35714285714285715, 'f': 0.3124999950781251}, 'rouge-l': {'r': 0.44, 'p': 0.5789473684210527, 'f': 0.49999999509297527}},\n",
       "       {'rouge-1': {'r': 0.21333333333333335, 'p': 0.42105263157894735, 'f': 0.28318583624402854}, 'rouge-2': {'r': 0.06481481481481481, 'p': 0.12280701754385964, 'f': 0.08484848032617104}, 'rouge-l': {'r': 0.2, 'p': 0.39473684210526316, 'f': 0.2654867211997808}},\n",
       "       {'rouge-1': {'r': 0.16, 'p': 0.48, 'f': 0.23999999625000001}, 'rouge-2': {'r': 0.037037037037037035, 'p': 0.14814814814814814, 'f': 0.059259256059259434}, 'rouge-l': {'r': 0.14666666666666667, 'p': 0.44, 'f': 0.21999999625000002}},\n",
       "       {'rouge-1': {'r': 0.21333333333333335, 'p': 0.25396825396825395, 'f': 0.23188405300882178}, 'rouge-2': {'r': 0.046296296296296294, 'p': 0.0684931506849315, 'f': 0.05524861397149091}, 'rouge-l': {'r': 0.17333333333333334, 'p': 0.20634920634920634, 'f': 0.1884057921392566}},\n",
       "       {'rouge-1': {'r': 0.5192307692307693, 'p': 0.5, 'f': 0.5094339572659311}, 'rouge-2': {'r': 0.31746031746031744, 'p': 0.30303030303030304, 'f': 0.3100775143825492}, 'rouge-l': {'r': 0.4807692307692308, 'p': 0.46296296296296297, 'f': 0.47169810820932717}},\n",
       "       {'rouge-1': {'r': 0.5961538461538461, 'p': 0.5636363636363636, 'f': 0.5794392473403791}, 'rouge-2': {'r': 0.3333333333333333, 'p': 0.3181818181818182, 'f': 0.3255813903515414}, 'rouge-l': {'r': 0.5576923076923077, 'p': 0.5272727272727272, 'f': 0.5420560697702858}},\n",
       "       {'rouge-1': {'r': 0.38461538461538464, 'p': 0.37037037037037035, 'f': 0.37735848556781776}, 'rouge-2': {'r': 0.15873015873015872, 'p': 0.14925373134328357, 'f': 0.15384614885088774}, 'rouge-l': {'r': 0.36538461538461536, 'p': 0.35185185185185186, 'f': 0.3584905610395159}},\n",
       "       {'rouge-1': {'r': 0.34615384615384615, 'p': 0.43902439024390244, 'f': 0.3870967692634986}, 'rouge-2': {'r': 0.09523809523809523, 'p': 0.11764705882352941, 'f': 0.10526315295013873}, 'rouge-l': {'r': 0.28846153846153844, 'p': 0.36585365853658536, 'f': 0.32258064023124067}},\n",
       "       {'rouge-1': {'r': 0.3269230769230769, 'p': 0.34, 'f': 0.3333333283352557}, 'rouge-2': {'r': 0.14285714285714285, 'p': 0.13846153846153847, 'f': 0.1406249950012209}, 'rouge-l': {'r': 0.2692307692307692, 'p': 0.28, 'f': 0.27450979892349103}},\n",
       "       {'rouge-1': {'r': 0.5416666666666666, 'p': 0.5416666666666666, 'f': 0.5416666616666667}, 'rouge-2': {'r': 0.20833333333333334, 'p': 0.20833333333333334, 'f': 0.20833332833333348}, 'rouge-l': {'r': 0.4583333333333333, 'p': 0.4583333333333333, 'f': 0.45833332833333335}},\n",
       "       {'rouge-1': {'r': 0.5, 'p': 0.41379310344827586, 'f': 0.45283018372374517}, 'rouge-2': {'r': 0.16666666666666666, 'p': 0.125, 'f': 0.14285713795918387}, 'rouge-l': {'r': 0.5, 'p': 0.41379310344827586, 'f': 0.45283018372374517}},\n",
       "       {'rouge-1': {'r': 0.5833333333333334, 'p': 0.4117647058823529, 'f': 0.4827586158382878}, 'rouge-2': {'r': 0.25, 'p': 0.15789473684210525, 'f': 0.19354838235171706}, 'rouge-l': {'r': 0.5, 'p': 0.35294117647058826, 'f': 0.41379309859690844}},\n",
       "       {'rouge-1': {'r': 0.4166666666666667, 'p': 0.4, 'f': 0.408163260308205}, 'rouge-2': {'r': 0.125, 'p': 0.11538461538461539, 'f': 0.11999999500800021}, 'rouge-l': {'r': 0.3333333333333333, 'p': 0.32, 'f': 0.32653060724698046}},\n",
       "       {'rouge-1': {'r': 0.5, 'p': 0.1791044776119403, 'f': 0.26373625985267485}, 'rouge-2': {'r': 0.20833333333333334, 'p': 0.058823529411764705, 'f': 0.0917431158320008}, 'rouge-l': {'r': 0.3333333333333333, 'p': 0.11940298507462686, 'f': 0.17582417194058697}},\n",
       "       {'rouge-1': {'r': 0.5952380952380952, 'p': 0.5681818181818182, 'f': 0.5813953438399135}, 'rouge-2': {'r': 0.3333333333333333, 'p': 0.3090909090909091, 'f': 0.3207547119882521}, 'rouge-l': {'r': 0.5952380952380952, 'p': 0.5681818181818182, 'f': 0.5813953438399135}},\n",
       "       {'rouge-1': {'r': 0.23809523809523808, 'p': 0.43478260869565216, 'f': 0.30769230311952667}, 'rouge-2': {'r': 0.09803921568627451, 'p': 0.18518518518518517, 'f': 0.12820512367850115}, 'rouge-l': {'r': 0.23809523809523808, 'p': 0.43478260869565216, 'f': 0.30769230311952667}},\n",
       "       {'rouge-1': {'r': 0.23809523809523808, 'p': 0.24390243902439024, 'f': 0.24096385042241264}, 'rouge-2': {'r': 0.0, 'p': 0.0, 'f': 0.0}, 'rouge-l': {'r': 0.19047619047619047, 'p': 0.1951219512195122, 'f': 0.19277107933807533}},\n",
       "       {'rouge-1': {'r': 0.5476190476190477, 'p': 0.4791666666666667, 'f': 0.5111111061333333}, 'rouge-2': {'r': 0.23529411764705882, 'p': 0.2, 'f': 0.21621621124908705}, 'rouge-l': {'r': 0.5, 'p': 0.4375, 'f': 0.46666666168888893}},\n",
       "       {'rouge-1': {'r': 0.09523809523809523, 'p': 0.2857142857142857, 'f': 0.14285713910714296}, 'rouge-2': {'r': 0.0392156862745098, 'p': 0.15384615384615385, 'f': 0.062499996762695485}, 'rouge-l': {'r': 0.09523809523809523, 'p': 0.2857142857142857, 'f': 0.14285713910714296}},\n",
       "       {'rouge-1': {'r': 0.6470588235294118, 'p': 0.43137254901960786, 'f': 0.5176470540235294}, 'rouge-2': {'r': 0.47368421052631576, 'p': 0.2903225806451613, 'f': 0.35999999528800003}, 'rouge-l': {'r': 0.6176470588235294, 'p': 0.4117647058823529, 'f': 0.49411764225882365}},\n",
       "       {'rouge-1': {'r': 0.17647058823529413, 'p': 0.35294117647058826, 'f': 0.23529411320261448}, 'rouge-2': {'r': 0.10526315789473684, 'p': 0.21052631578947367, 'f': 0.14035087274853814}, 'rouge-l': {'r': 0.17647058823529413, 'p': 0.35294117647058826, 'f': 0.23529411320261448}},\n",
       "       {'rouge-1': {'r': 0.5, 'p': 0.3953488372093023, 'f': 0.4415584366267499}, 'rouge-2': {'r': 0.2631578947368421, 'p': 0.20408163265306123, 'f': 0.22988505255119576}, 'rouge-l': {'r': 0.47058823529411764, 'p': 0.37209302325581395, 'f': 0.41558441065272395}},\n",
       "       {'rouge-1': {'r': 0.6470588235294118, 'p': 0.3793103448275862, 'f': 0.47826086490548214}, 'rouge-2': {'r': 0.47368421052631576, 'p': 0.25, 'f': 0.3272727227504133}, 'rouge-l': {'r': 0.6176470588235294, 'p': 0.3620689655172414, 'f': 0.4565217344706995}},\n",
       "       {'rouge-1': {'r': 0.38235294117647056, 'p': 0.25, 'f': 0.3023255766143862}, 'rouge-2': {'r': 0.18421052631578946, 'p': 0.1111111111111111, 'f': 0.1386138566924813}, 'rouge-l': {'r': 0.35294117647058826, 'p': 0.23076923076923078, 'f': 0.2790697626608979}},\n",
       "       {'rouge-1': {'r': 0.6428571428571429, 'p': 0.6666666666666666, 'f': 0.6545454495471076}, 'rouge-2': {'r': 0.559322033898305, 'p': 0.5238095238095238, 'f': 0.540983601562752}, 'rouge-l': {'r': 0.6071428571428571, 'p': 0.6296296296296297, 'f': 0.6181818131834711}},\n",
       "       {'rouge-1': {'r': 0.6428571428571429, 'p': 0.5454545454545454, 'f': 0.5901639294598228}, 'rouge-2': {'r': 0.5423728813559322, 'p': 0.4, 'f': 0.4604316497903836}, 'rouge-l': {'r': 0.6071428571428571, 'p': 0.5151515151515151, 'f': 0.557377044213921}},\n",
       "       {'rouge-1': {'r': 0.6607142857142857, 'p': 0.6491228070175439, 'f': 0.6548672516375598}, 'rouge-2': {'r': 0.5932203389830508, 'p': 0.5384615384615384, 'f': 0.5645161240439647}, 'rouge-l': {'r': 0.6428571428571429, 'p': 0.631578947368421, 'f': 0.637168136593312}},\n",
       "       {'rouge-1': {'r': 0.2857142857142857, 'p': 0.32653061224489793, 'f': 0.304761899784127}, 'rouge-2': {'r': 0.13559322033898305, 'p': 0.12903225806451613, 'f': 0.13223139996175146}, 'rouge-l': {'r': 0.2857142857142857, 'p': 0.32653061224489793, 'f': 0.304761899784127}},\n",
       "       {'rouge-1': {'r': 0.125, 'p': 0.3181818181818182, 'f': 0.17948717543721246}, 'rouge-2': {'r': 0.01694915254237288, 'p': 0.038461538461538464, 'f': 0.023529407518339866}, 'rouge-l': {'r': 0.10714285714285714, 'p': 0.2727272727272727, 'f': 0.1538461497961868}}],\n",
       "      dtype=object)"
      ]
     },
     "execution_count": 81,
     "metadata": {},
     "output_type": "execute_result"
    }
   ],
   "source": [
    "dataset_scores_array = res_df[['answer_llm', 'answer_orig']].apply(lambda x: rouge_scorer.get_scores(x.iloc[0], x.iloc[1])[0], axis=1).values\n",
    "\n",
    "dataset_scores_array"
   ]
  },
  {
   "cell_type": "markdown",
   "id": "4f9de44c-fb4a-446b-8a9e-5c458eb61e8c",
   "metadata": {},
   "source": [
    "Creating DataFrame"
   ]
  },
  {
   "cell_type": "code",
   "execution_count": 85,
   "id": "f6937c55-ec7d-434a-b19b-301429424092",
   "metadata": {},
   "outputs": [
    {
     "data": {
      "text/html": [
       "<div>\n",
       "<style scoped>\n",
       "    .dataframe tbody tr th:only-of-type {\n",
       "        vertical-align: middle;\n",
       "    }\n",
       "\n",
       "    .dataframe tbody tr th {\n",
       "        vertical-align: top;\n",
       "    }\n",
       "\n",
       "    .dataframe thead th {\n",
       "        text-align: right;\n",
       "    }\n",
       "</style>\n",
       "<table border=\"1\" class=\"dataframe\">\n",
       "  <thead>\n",
       "    <tr style=\"text-align: right;\">\n",
       "      <th></th>\n",
       "      <th>rouge_1</th>\n",
       "      <th>rouge_2</th>\n",
       "      <th>rouge_l</th>\n",
       "      <th>rouge_avg</th>\n",
       "    </tr>\n",
       "  </thead>\n",
       "  <tbody>\n",
       "    <tr>\n",
       "      <th>0</th>\n",
       "      <td>0.095238</td>\n",
       "      <td>0.028169</td>\n",
       "      <td>0.095238</td>\n",
       "      <td>0.072882</td>\n",
       "    </tr>\n",
       "    <tr>\n",
       "      <th>1</th>\n",
       "      <td>0.125000</td>\n",
       "      <td>0.055556</td>\n",
       "      <td>0.093750</td>\n",
       "      <td>0.091435</td>\n",
       "    </tr>\n",
       "    <tr>\n",
       "      <th>2</th>\n",
       "      <td>0.415584</td>\n",
       "      <td>0.177778</td>\n",
       "      <td>0.389610</td>\n",
       "      <td>0.327658</td>\n",
       "    </tr>\n",
       "    <tr>\n",
       "      <th>3</th>\n",
       "      <td>0.216216</td>\n",
       "      <td>0.047059</td>\n",
       "      <td>0.189189</td>\n",
       "      <td>0.150821</td>\n",
       "    </tr>\n",
       "    <tr>\n",
       "      <th>4</th>\n",
       "      <td>0.142076</td>\n",
       "      <td>0.033898</td>\n",
       "      <td>0.120219</td>\n",
       "      <td>0.098731</td>\n",
       "    </tr>\n",
       "  </tbody>\n",
       "</table>\n",
       "</div>"
      ],
      "text/plain": [
       "    rouge_1   rouge_2   rouge_l  rouge_avg\n",
       "0  0.095238  0.028169  0.095238   0.072882\n",
       "1  0.125000  0.055556  0.093750   0.091435\n",
       "2  0.415584  0.177778  0.389610   0.327658\n",
       "3  0.216216  0.047059  0.189189   0.150821\n",
       "4  0.142076  0.033898  0.120219   0.098731"
      ]
     },
     "execution_count": 85,
     "metadata": {},
     "output_type": "execute_result"
    }
   ],
   "source": [
    "def prepare_df_entry(scores):\n",
    "    rouge_1 = scores['rouge-1']['f']\n",
    "    rouge_2 = scores['rouge-2']['f']\n",
    "    rouge_l = scores['rouge-l']['f']\n",
    "    rouge_avg = (rouge_1 + rouge_2 + rouge_l) / 3\n",
    "\n",
    "    return (rouge_1, rouge_2, rouge_l, rouge_avg)\n",
    "\n",
    "scores_df = pd.DataFrame([prepare_df_entry(i) for i in dataset_scores_array], columns=['rouge_1', 'rouge_2', 'rouge_l', 'rouge_avg'])\n",
    "\n",
    "scores_df.head()"
   ]
  },
  {
   "cell_type": "code",
   "execution_count": 57,
   "id": "139e71ca-fd1b-4af2-86bb-3f6d91761797",
   "metadata": {},
   "outputs": [],
   "source": [
    "all_scores = [eval_average_score(i) for i in rouge_scorer.get_scores([r['answer_llm'] for r in res], [r['answer_orig'] for r in res])]"
   ]
  },
  {
   "cell_type": "code",
   "execution_count": 87,
   "id": "c9ae2db7-7e7b-4f06-9448-35f73b7451cb",
   "metadata": {},
   "outputs": [
    {
     "data": {
      "text/plain": [
       "0.20696501983423318"
      ]
     },
     "execution_count": 87,
     "metadata": {},
     "output_type": "execute_result"
    }
   ],
   "source": [
    "scores_df['rouge_2'].mean()\n"
   ]
  },
  {
   "cell_type": "code",
   "execution_count": null,
   "id": "33a4ab89-a402-411d-8d2c-1748fbb0dcb1",
   "metadata": {},
   "outputs": [],
   "source": []
  }
 ],
 "metadata": {
  "kernelspec": {
   "display_name": "Python 3 (ipykernel)",
   "language": "python",
   "name": "python3"
  },
  "language_info": {
   "codemirror_mode": {
    "name": "ipython",
    "version": 3
   },
   "file_extension": ".py",
   "mimetype": "text/x-python",
   "name": "python",
   "nbconvert_exporter": "python",
   "pygments_lexer": "ipython3",
   "version": "3.10.13"
  }
 },
 "nbformat": 4,
 "nbformat_minor": 5
}
